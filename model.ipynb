{
 "cells": [
  {
   "cell_type": "code",
   "execution_count": 1,
   "metadata": {},
   "outputs": [
    {
     "name": "stderr",
     "output_type": "stream",
     "text": [
      "2024-04-24 23:12:10.138742: I tensorflow/core/platform/cpu_feature_guard.cc:193] This TensorFlow binary is optimized with oneAPI Deep Neural Network Library (oneDNN) to use the following CPU instructions in performance-critical operations:  AVX2 AVX512F AVX512_VNNI FMA\n",
      "To enable them in other operations, rebuild TensorFlow with the appropriate compiler flags.\n",
      "2024-04-24 23:12:10.525558: I tensorflow/core/util/port.cc:104] oneDNN custom operations are on. You may see slightly different numerical results due to floating-point round-off errors from different computation orders. To turn them off, set the environment variable `TF_ENABLE_ONEDNN_OPTS=0`.\n",
      "2024-04-24 23:12:10.565166: W tensorflow/compiler/xla/stream_executor/platform/default/dso_loader.cc:64] Could not load dynamic library 'libcudart.so.11.0'; dlerror: libcudart.so.11.0: cannot open shared object file: No such file or directory; LD_LIBRARY_PATH: :/usr/local/cuda/lib64:/usr/local/cuda/extras/CUPTI/lib64\n",
      "2024-04-24 23:12:10.565198: I tensorflow/compiler/xla/stream_executor/cuda/cudart_stub.cc:29] Ignore above cudart dlerror if you do not have a GPU set up on your machine.\n",
      "2024-04-24 23:12:11.424302: W tensorflow/compiler/xla/stream_executor/platform/default/dso_loader.cc:64] Could not load dynamic library 'libnvinfer.so.7'; dlerror: libnvinfer.so.7: cannot open shared object file: No such file or directory; LD_LIBRARY_PATH: :/usr/local/cuda/lib64:/usr/local/cuda/extras/CUPTI/lib64\n",
      "2024-04-24 23:12:11.424843: W tensorflow/compiler/xla/stream_executor/platform/default/dso_loader.cc:64] Could not load dynamic library 'libnvinfer_plugin.so.7'; dlerror: libnvinfer_plugin.so.7: cannot open shared object file: No such file or directory; LD_LIBRARY_PATH: :/usr/local/cuda/lib64:/usr/local/cuda/extras/CUPTI/lib64\n",
      "2024-04-24 23:12:11.424851: W tensorflow/compiler/tf2tensorrt/utils/py_utils.cc:38] TF-TRT Warning: Cannot dlopen some TensorRT libraries. If you would like to use Nvidia GPU with TensorRT, please make sure the missing libraries mentioned above are installed properly.\n"
     ]
    }
   ],
   "source": [
    "import numpy as np\n",
    "import pandas as pd\n",
    "from tensorflow.keras.models import Sequential\n",
    "from tensorflow.keras.utils import to_categorical\n",
    "from tensorflow.keras.layers import Activation, Dense, Flatten, Conv2D, MaxPool2D, Dropout, BatchNormalization\n",
    "from tensorflow.keras.callbacks import EarlyStopping\n",
    "from tensorflow.keras.optimizers import SGD, Adam\n",
    "import matplotlib.pyplot as plt\n",
    "import seaborn as sns"
   ]
  },
  {
   "cell_type": "code",
   "execution_count": 2,
   "metadata": {},
   "outputs": [],
   "source": [
    "X_train = np.load('X_train.npy')\n",
    "Y_train = np.load('Y_train.npy')\n",
    "X_test = np.load('X_test.npy')\n",
    "Y_test = np.load('Y_test.npy')"
   ]
  },
  {
   "cell_type": "code",
   "execution_count": 3,
   "metadata": {},
   "outputs": [],
   "source": [
    "X_train = X_train[..., np.newaxis]\n",
    "X_test = X_test[..., np.newaxis]\n"
   ]
  },
  {
   "cell_type": "code",
   "execution_count": 4,
   "metadata": {},
   "outputs": [
    {
     "data": {
      "text/plain": [
       "(862, 13, 1)"
      ]
     },
     "execution_count": 4,
     "metadata": {},
     "output_type": "execute_result"
    }
   ],
   "source": [
    "input_shape = X_train.shape[1:]\n",
    "input_shape"
   ]
  },
  {
   "cell_type": "code",
   "execution_count": 5,
   "metadata": {},
   "outputs": [
    {
     "name": "stderr",
     "output_type": "stream",
     "text": [
      "2024-04-24 23:12:15.386598: I tensorflow/compiler/xla/stream_executor/cuda/cuda_gpu_executor.cc:967] could not open file to read NUMA node: /sys/bus/pci/devices/0000:01:00.0/numa_node\n",
      "Your kernel may have been built without NUMA support.\n",
      "2024-04-24 23:12:15.386888: W tensorflow/compiler/xla/stream_executor/platform/default/dso_loader.cc:64] Could not load dynamic library 'libcudart.so.11.0'; dlerror: libcudart.so.11.0: cannot open shared object file: No such file or directory; LD_LIBRARY_PATH: :/usr/local/cuda/lib64:/usr/local/cuda/extras/CUPTI/lib64\n",
      "2024-04-24 23:12:15.386971: W tensorflow/compiler/xla/stream_executor/platform/default/dso_loader.cc:64] Could not load dynamic library 'libcublas.so.11'; dlerror: libcublas.so.11: cannot open shared object file: No such file or directory; LD_LIBRARY_PATH: :/usr/local/cuda/lib64:/usr/local/cuda/extras/CUPTI/lib64\n",
      "2024-04-24 23:12:15.387467: W tensorflow/compiler/xla/stream_executor/platform/default/dso_loader.cc:64] Could not load dynamic library 'libcublasLt.so.11'; dlerror: libcublasLt.so.11: cannot open shared object file: No such file or directory; LD_LIBRARY_PATH: :/usr/local/cuda/lib64:/usr/local/cuda/extras/CUPTI/lib64\n",
      "2024-04-24 23:12:15.387545: W tensorflow/compiler/xla/stream_executor/platform/default/dso_loader.cc:64] Could not load dynamic library 'libcufft.so.10'; dlerror: libcufft.so.10: cannot open shared object file: No such file or directory; LD_LIBRARY_PATH: :/usr/local/cuda/lib64:/usr/local/cuda/extras/CUPTI/lib64\n",
      "2024-04-24 23:12:15.521657: W tensorflow/compiler/xla/stream_executor/platform/default/dso_loader.cc:64] Could not load dynamic library 'libcusparse.so.11'; dlerror: libcusparse.so.11: cannot open shared object file: No such file or directory; LD_LIBRARY_PATH: :/usr/local/cuda/lib64:/usr/local/cuda/extras/CUPTI/lib64\n",
      "2024-04-24 23:12:15.522791: W tensorflow/core/common_runtime/gpu/gpu_device.cc:1934] Cannot dlopen some GPU libraries. Please make sure the missing libraries mentioned above are installed properly if you would like to use GPU. Follow the guide at https://www.tensorflow.org/install/gpu for how to download and setup the required libraries for your platform.\n",
      "Skipping registering GPU devices...\n",
      "2024-04-24 23:12:15.524190: I tensorflow/core/platform/cpu_feature_guard.cc:193] This TensorFlow binary is optimized with oneAPI Deep Neural Network Library (oneDNN) to use the following CPU instructions in performance-critical operations:  AVX2 AVX512F AVX512_VNNI FMA\n",
      "To enable them in other operations, rebuild TensorFlow with the appropriate compiler flags.\n"
     ]
    },
    {
     "name": "stdout",
     "output_type": "stream",
     "text": [
      "Model: \"sequential\"\n",
      "_________________________________________________________________\n",
      " Layer (type)                Output Shape              Param #   \n",
      "=================================================================\n",
      " conv2d (Conv2D)             (None, 860, 11, 64)       640       \n",
      "                                                                 \n",
      " max_pooling2d (MaxPooling2D  (None, 430, 6, 64)       0         \n",
      " )                                                               \n",
      "                                                                 \n",
      " batch_normalization (BatchN  (None, 430, 6, 64)       256       \n",
      " ormalization)                                                   \n",
      "                                                                 \n",
      " conv2d_1 (Conv2D)           (None, 428, 4, 32)        18464     \n",
      "                                                                 \n",
      " max_pooling2d_1 (MaxPooling  (None, 214, 2, 32)       0         \n",
      " 2D)                                                             \n",
      "                                                                 \n",
      " batch_normalization_1 (Batc  (None, 214, 2, 32)       128       \n",
      " hNormalization)                                                 \n",
      "                                                                 \n",
      " conv2d_2 (Conv2D)           (None, 213, 1, 32)        4128      \n",
      "                                                                 \n",
      " max_pooling2d_2 (MaxPooling  (None, 107, 1, 32)       0         \n",
      " 2D)                                                             \n",
      "                                                                 \n",
      " batch_normalization_2 (Batc  (None, 107, 1, 32)       128       \n",
      " hNormalization)                                                 \n",
      "                                                                 \n",
      " conv2d_3 (Conv2D)           (None, 107, 1, 16)        528       \n",
      "                                                                 \n",
      " max_pooling2d_3 (MaxPooling  (None, 54, 1, 16)        0         \n",
      " 2D)                                                             \n",
      "                                                                 \n",
      " batch_normalization_3 (Batc  (None, 54, 1, 16)        64        \n",
      " hNormalization)                                                 \n",
      "                                                                 \n",
      " flatten (Flatten)           (None, 864)               0         \n",
      "                                                                 \n",
      " dense (Dense)               (None, 64)                55360     \n",
      "                                                                 \n",
      " dropout (Dropout)           (None, 64)                0         \n",
      "                                                                 \n",
      " dense_1 (Dense)             (None, 10)                650       \n",
      "                                                                 \n",
      "=================================================================\n",
      "Total params: 80,346\n",
      "Trainable params: 80,058\n",
      "Non-trainable params: 288\n",
      "_________________________________________________________________\n"
     ]
    }
   ],
   "source": [
    "model = Sequential()\n",
    "model.add(Conv2D(64, (3, 3), activation = \"relu\", input_shape = input_shape))\n",
    "model.add(MaxPool2D((3, 3), strides=(2, 2), padding=\"same\"))\n",
    "model.add(BatchNormalization())\n",
    "\n",
    "model.add(Conv2D(32, (3, 3), activation = \"relu\"))\n",
    "model.add(MaxPool2D((3, 3), strides=(2, 2), padding=\"same\"))\n",
    "model.add(BatchNormalization())\n",
    "\n",
    "model.add(Conv2D(32, (2, 2), activation = \"relu\"))\n",
    "model.add(MaxPool2D((2, 2), strides=(2, 2), padding=\"same\"))\n",
    "model.add(BatchNormalization())\n",
    "\n",
    "model.add(Conv2D(16, (1, 1), activation = \"relu\"))\n",
    "model.add(MaxPool2D((1, 1), strides=(2, 2), padding=\"same\"))\n",
    "model.add(BatchNormalization())\n",
    "\n",
    "model.add(Flatten())\n",
    "model.add(Dense(64, activation=\"relu\"))\n",
    "model.add(Dropout(0.3))\n",
    "model.add(Dense(10, activation=\"softmax\"))\n",
    "\n",
    "model.summary()"
   ]
  },
  {
   "cell_type": "code",
   "execution_count": 6,
   "metadata": {},
   "outputs": [],
   "source": [
    "model.compile(loss=\"sparse_categorical_crossentropy\", optimizer= Adam(learning_rate=1e-4), metrics=['accuracy'])"
   ]
  },
  {
   "cell_type": "code",
   "execution_count": 7,
   "metadata": {},
   "outputs": [],
   "source": [
    "es = EarlyStopping(patience=10, restore_best_weights=True, monitor=\"val_loss\")"
   ]
  },
  {
   "cell_type": "code",
   "execution_count": 8,
   "metadata": {},
   "outputs": [
    {
     "name": "stdout",
     "output_type": "stream",
     "text": [
      "Epoch 1/100\n",
      "313/313 [==============================] - 23s 70ms/step - loss: 2.2874 - accuracy: 0.2865 - val_loss: 1.5413 - val_accuracy: 0.4535\n",
      "Epoch 2/100\n",
      "313/313 [==============================] - 21s 68ms/step - loss: 1.5788 - accuracy: 0.4553 - val_loss: 1.1938 - val_accuracy: 0.5685\n",
      "Epoch 3/100\n",
      "313/313 [==============================] - 21s 67ms/step - loss: 1.3235 - accuracy: 0.5277 - val_loss: 1.0264 - val_accuracy: 0.6285\n",
      "Epoch 4/100\n",
      "313/313 [==============================] - 21s 67ms/step - loss: 1.1385 - accuracy: 0.5932 - val_loss: 0.8901 - val_accuracy: 0.6780\n",
      "Epoch 5/100\n",
      "313/313 [==============================] - 21s 67ms/step - loss: 1.0292 - accuracy: 0.6361 - val_loss: 0.8386 - val_accuracy: 0.7050\n",
      "Epoch 6/100\n",
      "313/313 [==============================] - 21s 68ms/step - loss: 0.9036 - accuracy: 0.6848 - val_loss: 0.7403 - val_accuracy: 0.7360\n",
      "Epoch 7/100\n",
      "313/313 [==============================] - 21s 67ms/step - loss: 0.8323 - accuracy: 0.7102 - val_loss: 0.8010 - val_accuracy: 0.7180\n",
      "Epoch 8/100\n",
      "313/313 [==============================] - 21s 67ms/step - loss: 0.7647 - accuracy: 0.7303 - val_loss: 0.7103 - val_accuracy: 0.7570\n",
      "Epoch 9/100\n",
      "313/313 [==============================] - 21s 68ms/step - loss: 0.7032 - accuracy: 0.7486 - val_loss: 0.6014 - val_accuracy: 0.7840\n",
      "Epoch 10/100\n",
      "313/313 [==============================] - 21s 67ms/step - loss: 0.6464 - accuracy: 0.7761 - val_loss: 0.5217 - val_accuracy: 0.8215\n",
      "Epoch 11/100\n",
      "313/313 [==============================] - 21s 67ms/step - loss: 0.5948 - accuracy: 0.7913 - val_loss: 0.5033 - val_accuracy: 0.8215\n",
      "Epoch 12/100\n",
      "313/313 [==============================] - 21s 68ms/step - loss: 0.5688 - accuracy: 0.7991 - val_loss: 0.5457 - val_accuracy: 0.8055\n",
      "Epoch 13/100\n",
      "313/313 [==============================] - 21s 67ms/step - loss: 0.5124 - accuracy: 0.8211 - val_loss: 0.4583 - val_accuracy: 0.8495\n",
      "Epoch 14/100\n",
      "313/313 [==============================] - 21s 68ms/step - loss: 0.4779 - accuracy: 0.8363 - val_loss: 0.4918 - val_accuracy: 0.8280\n",
      "Epoch 15/100\n",
      "313/313 [==============================] - 21s 67ms/step - loss: 0.4398 - accuracy: 0.8422 - val_loss: 0.4183 - val_accuracy: 0.8530\n",
      "Epoch 16/100\n",
      "313/313 [==============================] - 21s 67ms/step - loss: 0.4301 - accuracy: 0.8497 - val_loss: 0.5150 - val_accuracy: 0.8230\n",
      "Epoch 17/100\n",
      "313/313 [==============================] - 21s 68ms/step - loss: 0.3981 - accuracy: 0.8617 - val_loss: 0.3874 - val_accuracy: 0.8635\n",
      "Epoch 18/100\n",
      "313/313 [==============================] - 21s 68ms/step - loss: 0.3754 - accuracy: 0.8658 - val_loss: 0.4676 - val_accuracy: 0.8285\n",
      "Epoch 19/100\n",
      "313/313 [==============================] - 21s 67ms/step - loss: 0.3519 - accuracy: 0.8782 - val_loss: 0.3618 - val_accuracy: 0.8720\n",
      "Epoch 20/100\n",
      "313/313 [==============================] - 21s 68ms/step - loss: 0.3202 - accuracy: 0.8881 - val_loss: 0.3121 - val_accuracy: 0.8910\n",
      "Epoch 21/100\n",
      "313/313 [==============================] - 21s 67ms/step - loss: 0.3105 - accuracy: 0.8920 - val_loss: 0.2994 - val_accuracy: 0.8955\n",
      "Epoch 22/100\n",
      "313/313 [==============================] - 21s 68ms/step - loss: 0.3078 - accuracy: 0.8929 - val_loss: 0.2869 - val_accuracy: 0.9010\n",
      "Epoch 23/100\n",
      "313/313 [==============================] - 21s 68ms/step - loss: 0.2841 - accuracy: 0.8985 - val_loss: 0.3409 - val_accuracy: 0.8775\n",
      "Epoch 24/100\n",
      "313/313 [==============================] - 21s 68ms/step - loss: 0.2642 - accuracy: 0.9075 - val_loss: 0.2910 - val_accuracy: 0.8960\n",
      "Epoch 25/100\n",
      "313/313 [==============================] - 21s 68ms/step - loss: 0.2611 - accuracy: 0.9077 - val_loss: 0.3116 - val_accuracy: 0.8915\n",
      "Epoch 26/100\n",
      "313/313 [==============================] - 21s 68ms/step - loss: 0.2358 - accuracy: 0.9203 - val_loss: 0.3345 - val_accuracy: 0.8890\n",
      "Epoch 27/100\n",
      "313/313 [==============================] - 21s 67ms/step - loss: 0.2212 - accuracy: 0.9206 - val_loss: 0.2765 - val_accuracy: 0.9000\n",
      "Epoch 28/100\n",
      "313/313 [==============================] - 21s 67ms/step - loss: 0.2146 - accuracy: 0.9247 - val_loss: 0.2624 - val_accuracy: 0.9080\n",
      "Epoch 29/100\n",
      "313/313 [==============================] - 22s 69ms/step - loss: 0.2069 - accuracy: 0.9301 - val_loss: 0.2560 - val_accuracy: 0.9155\n",
      "Epoch 30/100\n",
      "313/313 [==============================] - 21s 68ms/step - loss: 0.1883 - accuracy: 0.9349 - val_loss: 0.2225 - val_accuracy: 0.9250\n",
      "Epoch 31/100\n",
      "313/313 [==============================] - 21s 68ms/step - loss: 0.1949 - accuracy: 0.9329 - val_loss: 0.2440 - val_accuracy: 0.9150\n",
      "Epoch 32/100\n",
      "313/313 [==============================] - 21s 67ms/step - loss: 0.1830 - accuracy: 0.9383 - val_loss: 0.1864 - val_accuracy: 0.9395\n",
      "Epoch 33/100\n",
      "313/313 [==============================] - 21s 68ms/step - loss: 0.1704 - accuracy: 0.9419 - val_loss: 0.1998 - val_accuracy: 0.9375\n",
      "Epoch 34/100\n",
      "313/313 [==============================] - 21s 67ms/step - loss: 0.1627 - accuracy: 0.9444 - val_loss: 0.2795 - val_accuracy: 0.9095\n",
      "Epoch 35/100\n",
      "313/313 [==============================] - 21s 68ms/step - loss: 0.1657 - accuracy: 0.9433 - val_loss: 0.2179 - val_accuracy: 0.9260\n",
      "Epoch 36/100\n",
      "313/313 [==============================] - 21s 68ms/step - loss: 0.1471 - accuracy: 0.9507 - val_loss: 0.2317 - val_accuracy: 0.9235\n",
      "Epoch 37/100\n",
      "313/313 [==============================] - 22s 69ms/step - loss: 0.1445 - accuracy: 0.9510 - val_loss: 0.2437 - val_accuracy: 0.9125\n",
      "Epoch 38/100\n",
      "313/313 [==============================] - 21s 68ms/step - loss: 0.1435 - accuracy: 0.9513 - val_loss: 0.2125 - val_accuracy: 0.9270\n",
      "Epoch 39/100\n",
      "313/313 [==============================] - 21s 68ms/step - loss: 0.1280 - accuracy: 0.9576 - val_loss: 0.1748 - val_accuracy: 0.9400\n",
      "Epoch 40/100\n",
      "313/313 [==============================] - 21s 68ms/step - loss: 0.1419 - accuracy: 0.9527 - val_loss: 0.2203 - val_accuracy: 0.9250\n",
      "Epoch 41/100\n",
      "313/313 [==============================] - 21s 69ms/step - loss: 0.1197 - accuracy: 0.9617 - val_loss: 0.1716 - val_accuracy: 0.9375\n",
      "Epoch 42/100\n",
      "313/313 [==============================] - 21s 68ms/step - loss: 0.1260 - accuracy: 0.9580 - val_loss: 0.2216 - val_accuracy: 0.9215\n",
      "Epoch 43/100\n",
      "313/313 [==============================] - 22s 70ms/step - loss: 0.1133 - accuracy: 0.9608 - val_loss: 0.2064 - val_accuracy: 0.9355\n",
      "Epoch 44/100\n",
      "313/313 [==============================] - 22s 69ms/step - loss: 0.1151 - accuracy: 0.9585 - val_loss: 0.1793 - val_accuracy: 0.9425\n",
      "Epoch 45/100\n",
      "313/313 [==============================] - 21s 67ms/step - loss: 0.1080 - accuracy: 0.9649 - val_loss: 0.1899 - val_accuracy: 0.9295\n",
      "Epoch 46/100\n",
      "313/313 [==============================] - 21s 68ms/step - loss: 0.1137 - accuracy: 0.9615 - val_loss: 0.2451 - val_accuracy: 0.9165\n",
      "Epoch 47/100\n",
      "313/313 [==============================] - 21s 67ms/step - loss: 0.1086 - accuracy: 0.9607 - val_loss: 0.2048 - val_accuracy: 0.9365\n",
      "Epoch 48/100\n",
      "313/313 [==============================] - 21s 67ms/step - loss: 0.0959 - accuracy: 0.9683 - val_loss: 0.2423 - val_accuracy: 0.9160\n",
      "Epoch 49/100\n",
      "313/313 [==============================] - 21s 68ms/step - loss: 0.0935 - accuracy: 0.9682 - val_loss: 0.1517 - val_accuracy: 0.9485\n",
      "Epoch 50/100\n",
      "313/313 [==============================] - 21s 68ms/step - loss: 0.0910 - accuracy: 0.9696 - val_loss: 0.1937 - val_accuracy: 0.9395\n",
      "Epoch 51/100\n",
      "313/313 [==============================] - 21s 67ms/step - loss: 0.0866 - accuracy: 0.9715 - val_loss: 0.2345 - val_accuracy: 0.9205\n",
      "Epoch 52/100\n",
      "313/313 [==============================] - 21s 67ms/step - loss: 0.0873 - accuracy: 0.9720 - val_loss: 0.1765 - val_accuracy: 0.9455\n",
      "Epoch 53/100\n",
      "313/313 [==============================] - 21s 67ms/step - loss: 0.0958 - accuracy: 0.9688 - val_loss: 0.2135 - val_accuracy: 0.9220\n",
      "Epoch 54/100\n",
      "313/313 [==============================] - 21s 67ms/step - loss: 0.0938 - accuracy: 0.9701 - val_loss: 0.2210 - val_accuracy: 0.9330\n",
      "Epoch 55/100\n",
      "313/313 [==============================] - 21s 67ms/step - loss: 0.0861 - accuracy: 0.9720 - val_loss: 0.2180 - val_accuracy: 0.9315\n",
      "Epoch 56/100\n",
      "313/313 [==============================] - 21s 67ms/step - loss: 0.0796 - accuracy: 0.9749 - val_loss: 0.1550 - val_accuracy: 0.9490\n",
      "Epoch 57/100\n",
      "313/313 [==============================] - 21s 67ms/step - loss: 0.0847 - accuracy: 0.9715 - val_loss: 0.1482 - val_accuracy: 0.9510\n",
      "Epoch 58/100\n",
      "313/313 [==============================] - 21s 67ms/step - loss: 0.0737 - accuracy: 0.9768 - val_loss: 0.1161 - val_accuracy: 0.9580\n",
      "Epoch 59/100\n",
      "313/313 [==============================] - 21s 67ms/step - loss: 0.0715 - accuracy: 0.9761 - val_loss: 0.1399 - val_accuracy: 0.9520\n",
      "Epoch 60/100\n",
      "313/313 [==============================] - 21s 67ms/step - loss: 0.0771 - accuracy: 0.9723 - val_loss: 0.1402 - val_accuracy: 0.9555\n",
      "Epoch 61/100\n",
      "313/313 [==============================] - 22s 69ms/step - loss: 0.0676 - accuracy: 0.9781 - val_loss: 0.2116 - val_accuracy: 0.9350\n",
      "Epoch 62/100\n",
      "313/313 [==============================] - 21s 68ms/step - loss: 0.0705 - accuracy: 0.9766 - val_loss: 0.1785 - val_accuracy: 0.9360\n",
      "Epoch 63/100\n",
      "313/313 [==============================] - 21s 68ms/step - loss: 0.0653 - accuracy: 0.9790 - val_loss: 0.1492 - val_accuracy: 0.9525\n",
      "Epoch 64/100\n",
      "313/313 [==============================] - 23s 72ms/step - loss: 0.0650 - accuracy: 0.9790 - val_loss: 0.1386 - val_accuracy: 0.9565\n",
      "Epoch 65/100\n",
      "313/313 [==============================] - 22s 69ms/step - loss: 0.0632 - accuracy: 0.9791 - val_loss: 0.1681 - val_accuracy: 0.9430\n",
      "Epoch 66/100\n",
      "313/313 [==============================] - 21s 68ms/step - loss: 0.0666 - accuracy: 0.9782 - val_loss: 0.2145 - val_accuracy: 0.9300\n",
      "Epoch 67/100\n",
      "313/313 [==============================] - 22s 69ms/step - loss: 0.0653 - accuracy: 0.9795 - val_loss: 0.1484 - val_accuracy: 0.9480\n",
      "Epoch 68/100\n",
      "313/313 [==============================] - 21s 68ms/step - loss: 0.0681 - accuracy: 0.9772 - val_loss: 0.2250 - val_accuracy: 0.9250\n"
     ]
    }
   ],
   "source": [
    "hist = model.fit(X_train, Y_train,\n",
    "                 validation_data = (X_test,Y_test),\n",
    "                 epochs = 100,\n",
    "                 batch_size = 32,\n",
    "                 callbacks = [es]\n",
    "                 )"
   ]
  },
  {
   "cell_type": "code",
   "execution_count": 9,
   "metadata": {},
   "outputs": [],
   "source": [
    "def plot_history(hist):\n",
    "    plt.figure(figsize=(20,15))\n",
    "    fig, axs = plt.subplots(2)\n",
    "    # accuracy subplot\n",
    "    axs[0].plot(hist.history[\"accuracy\"], label=\"train accuracy\")\n",
    "    axs[0].plot(hist.history[\"val_accuracy\"], label=\"test accuracy\")    \n",
    "    axs[0].set_ylabel(\"Accuracy\")\n",
    "    axs[0].legend(loc=\"lower right\")\n",
    "    axs[0].set_title(\"Accuracy eval\")\n",
    "    \n",
    "    # Error subplot\n",
    "    axs[1].plot(hist.history[\"loss\"], label=\"train error\")\n",
    "    axs[1].plot(hist.history[\"val_loss\"], label=\"test error\")    \n",
    "    axs[1].set_ylabel(\"Error\")\n",
    "    axs[1].set_xlabel(\"Epoch\")\n",
    "    axs[1].legend(loc=\"upper right\")\n",
    "    axs[1].set_title(\"Error eval\")\n",
    "    \n",
    "    plt.show()"
   ]
  },
  {
   "cell_type": "code",
   "execution_count": 10,
   "metadata": {},
   "outputs": [
    {
     "data": {
      "text/plain": [
       "<Figure size 2000x1500 with 0 Axes>"
      ]
     },
     "metadata": {},
     "output_type": "display_data"
    },
    {
     "data": {
      "image/png": "[encoded data removed]",
      "text/plain": [
       "<Figure size 640x480 with 2 Axes>"
      ]
     },
     "metadata": {},
     "output_type": "display_data"
    }
   ],
   "source": [
    "plot_history(hist)"
   ]
  },
  {
   "cell_type": "code",
   "execution_count": 11,
   "metadata": {},
   "outputs": [
    {
     "name": "stdout",
     "output_type": "stream",
     "text": [
      "63/63 [==============================] - 1s 22ms/step - loss: 0.1161 - accuracy: 0.9580\n",
      "Test accuracy: 0.9580000042915344\n"
     ]
    }
   ],
   "source": [
    "test_error, test_accuracy = model.evaluate(X_test, Y_test, verbose=1)\n",
    "print(f\"Test accuracy: {test_accuracy}\")"
   ]
  },
  {
   "cell_type": "markdown",
   "metadata": {},
   "source": [
    "Evaluate on test set"
   ]
  },
  {
   "cell_type": "code",
   "execution_count": null,
   "metadata": {},
   "outputs": [],
   "source": [
    "X_val = np.load('X_val.npy')\n",
    "Y_val = np.load('Y_val.npy')"
   ]
  },
  {
   "cell_type": "code",
   "execution_count": 13,
   "metadata": {},
   "outputs": [
    {
     "ename": "",
     "evalue": "",
     "output_type": "error",
     "traceback": [
      "\u001b[1;31mThe Kernel crashed while executing code in the the current cell or a previous cell. Please review the code in the cell(s) to identify a possible cause of the failure. Click <a href='https://aka.ms/vscodeJupyterKernelCrash'>here</a> for more info. View Jupyter <a href='command:jupyter.viewOutput'>log</a> for further details."
     ]
    }
   ],
   "source": [
    "test_error, test_accuracy = model.evaluate(X_val, Y_val, verbose=1)\n",
    "print(f\"Test accuracy: {test_accuracy}\")"
   ]
  },
  {
   "cell_type": "code",
   "execution_count": null,
   "metadata": {},
   "outputs": [],
   "source": []
  }
 ],
 "metadata": {
  "kernelspec": {
   "display_name": "drunk",
   "language": "python",
   "name": "python3"
  },
  "language_info": {
   "codemirror_mode": {
    "name": "ipython",
    "version": 3
   },
   "file_extension": ".py",
   "mimetype": "text/x-python",
   "name": "python",
   "nbconvert_exporter": "python",
   "pygments_lexer": "ipython3",
   "version": "3.7.15"
  }
 },
 "nbformat": 4,
 "nbformat_minor": 2
}
