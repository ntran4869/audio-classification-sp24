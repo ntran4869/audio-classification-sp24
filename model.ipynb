{
 "cells": [
  {
   "cell_type": "code",
   "execution_count": 53,
   "metadata": {},
   "outputs": [],
   "source": [
    "import numpy as np\n",
    "import pandas as pd\n",
    "from tensorflow.keras.models import Sequential\n",
    "from tensorflow.keras.utils import to_categorical\n",
    "from tensorflow.keras.layers import Activation, Dense, Flatten, Conv2D, MaxPooling2D, Dropout\n",
    "from tensorflow.keras.callbacks import EarlyStopping\n",
    "from tensorflow.keras.optimizers import SGD\n",
    "import matplotlib.pyplot as plt\n",
    "import seaborn as sns"
   ]
  },
  {
   "cell_type": "code",
   "execution_count": 54,
   "metadata": {},
   "outputs": [],
   "source": [
    "X_train = np.load('X_train.npy')\n",
    "Y_train = np.load('Y_train.npy')\n",
    "X_test = np.load('X_test.npy')\n",
    "Y_test = np.load('Y_test.npy')"
   ]
  },
  {
   "cell_type": "code",
   "execution_count": 63,
   "metadata": {},
   "outputs": [
    {
     "data": {
      "text/plain": [
       "10000"
      ]
     },
     "execution_count": 63,
     "metadata": {},
     "output_type": "execute_result"
    }
   ],
   "source": [
    "len(Y_train)"
   ]
  },
  {
   "cell_type": "code",
   "execution_count": 65,
   "metadata": {},
   "outputs": [
    {
     "data": {
      "text/plain": [
       "(87, 13)"
      ]
     },
     "execution_count": 65,
     "metadata": {},
     "output_type": "execute_result"
    }
   ],
   "source": [
    "input_shape = X_train.shape[1:]\n",
    "input_shape"
   ]
  },
  {
   "cell_type": "code",
   "execution_count": 76,
   "metadata": {},
   "outputs": [
    {
     "name": "stdout",
     "output_type": "stream",
     "text": [
      "Model: \"sequential_7\"\n",
      "_________________________________________________________________\n",
      " Layer (type)                Output Shape              Param #   \n",
      "=================================================================\n",
      " flatten_1 (Flatten)         (None, 1131)              0         \n",
      "                                                                 \n",
      " dense_29 (Dense)            (None, 512)               579584    \n",
      "                                                                 \n",
      " dropout_20 (Dropout)        (None, 512)               0         \n",
      "                                                                 \n",
      " dense_30 (Dense)            (None, 256)               131328    \n",
      "                                                                 \n",
      " dropout_21 (Dropout)        (None, 256)               0         \n",
      "                                                                 \n",
      " dense_31 (Dense)            (None, 64)                16448     \n",
      "                                                                 \n",
      " dropout_22 (Dropout)        (None, 64)                0         \n",
      "                                                                 \n",
      " dense_32 (Dense)            (None, 10)                650       \n",
      "                                                                 \n",
      "=================================================================\n",
      "Total params: 728,010\n",
      "Trainable params: 728,010\n",
      "Non-trainable params: 0\n",
      "_________________________________________________________________\n"
     ]
    }
   ],
   "source": [
    "model = Sequential()\n",
    "\n",
    "model.add(Flatten(input_shape=(input_shape)))\n",
    "model.add(Dense(512, activation='relu'))\n",
    "model.add(Dropout(0.15))\n",
    "model.add(Dense(256, activation='relu'))\n",
    "model.add(Dropout(0.15))\n",
    "model.add(Dense(64, activation='relu'))\n",
    "model.add(Dropout(0.15))\n",
    "model.add(Dense(10, activation='softmax'))\n",
    "model.summary()"
   ]
  },
  {
   "cell_type": "code",
   "execution_count": 77,
   "metadata": {},
   "outputs": [],
   "source": [
    "model.compile(loss=\"sparse_categorical_crossentropy\", optimizer='adam', metrics=['accuracy'])"
   ]
  },
  {
   "cell_type": "code",
   "execution_count": 68,
   "metadata": {},
   "outputs": [
    {
     "name": "stdout",
     "output_type": "stream",
     "text": [
      "Model: \"sequential_5\"\n",
      "_________________________________________________________________\n",
      " Layer (type)                Output Shape              Param #   \n",
      "=================================================================\n",
      " dense_20 (Dense)            (None, 87, 512)           7168      \n",
      "                                                                 \n",
      " dropout_16 (Dropout)        (None, 87, 512)           0         \n",
      "                                                                 \n",
      " dense_21 (Dense)            (None, 87, 256)           131328    \n",
      "                                                                 \n",
      " dropout_17 (Dropout)        (None, 87, 256)           0         \n",
      "                                                                 \n",
      " dense_22 (Dense)            (None, 87, 128)           32896     \n",
      "                                                                 \n",
      " dropout_18 (Dropout)        (None, 87, 128)           0         \n",
      "                                                                 \n",
      " dense_23 (Dense)            (None, 87, 64)            8256      \n",
      "                                                                 \n",
      " dropout_19 (Dropout)        (None, 87, 64)            0         \n",
      "                                                                 \n",
      " dense_24 (Dense)            (None, 87, 10)            650       \n",
      "                                                                 \n",
      "=================================================================\n",
      "Total params: 180,298\n",
      "Trainable params: 180,298\n",
      "Non-trainable params: 0\n",
      "_________________________________________________________________\n"
     ]
    }
   ],
   "source": [
    "model.summary()"
   ]
  },
  {
   "cell_type": "code",
   "execution_count": 78,
   "metadata": {},
   "outputs": [],
   "source": [
    "es = EarlyStopping(patience=5, restore_best_weights=True, monitor=\"val_loss\")"
   ]
  },
  {
   "cell_type": "code",
   "execution_count": 79,
   "metadata": {},
   "outputs": [
    {
     "name": "stdout",
     "output_type": "stream",
     "text": [
      "Epoch 1/100\n",
      "500/500 - 3s - loss: 5.2825 - accuracy: 0.1373 - val_loss: 2.2276 - val_accuracy: 0.1645 - 3s/epoch - 6ms/step\n",
      "Epoch 2/100\n",
      "500/500 - 2s - loss: 2.2720 - accuracy: 0.1386 - val_loss: 2.2754 - val_accuracy: 0.1075 - 2s/epoch - 5ms/step\n",
      "Epoch 3/100\n",
      "500/500 - 3s - loss: 2.2989 - accuracy: 0.1201 - val_loss: 2.2451 - val_accuracy: 0.1470 - 3s/epoch - 5ms/step\n",
      "Epoch 4/100\n",
      "500/500 - 2s - loss: 2.2720 - accuracy: 0.1345 - val_loss: 2.2727 - val_accuracy: 0.1090 - 2s/epoch - 5ms/step\n",
      "Epoch 5/100\n",
      "500/500 - 2s - loss: 2.2356 - accuracy: 0.1336 - val_loss: 2.2368 - val_accuracy: 0.1200 - 2s/epoch - 4ms/step\n",
      "Epoch 6/100\n",
      "500/500 - 2s - loss: 2.2895 - accuracy: 0.1331 - val_loss: 2.2909 - val_accuracy: 0.0990 - 2s/epoch - 4ms/step\n",
      "Epoch 7/100\n",
      "500/500 - 2s - loss: 2.2478 - accuracy: 0.1240 - val_loss: 2.2433 - val_accuracy: 0.1175 - 2s/epoch - 4ms/step\n",
      "Epoch 8/100\n",
      "500/500 - 2s - loss: 2.2513 - accuracy: 0.1315 - val_loss: 2.2421 - val_accuracy: 0.1180 - 2s/epoch - 4ms/step\n",
      "Epoch 9/100\n",
      "500/500 - 2s - loss: 2.2667 - accuracy: 0.1234 - val_loss: 2.2211 - val_accuracy: 0.1490 - 2s/epoch - 4ms/step\n",
      "Epoch 10/100\n",
      "500/500 - 2s - loss: 2.2550 - accuracy: 0.1389 - val_loss: 2.2363 - val_accuracy: 0.1205 - 2s/epoch - 4ms/step\n",
      "Epoch 11/100\n",
      "500/500 - 2s - loss: 2.2015 - accuracy: 0.1437 - val_loss: 2.2096 - val_accuracy: 0.1415 - 2s/epoch - 4ms/step\n",
      "Epoch 12/100\n",
      "500/500 - 2s - loss: 2.2426 - accuracy: 0.1314 - val_loss: 2.2334 - val_accuracy: 0.1210 - 2s/epoch - 4ms/step\n",
      "Epoch 13/100\n",
      "500/500 - 2s - loss: 2.2451 - accuracy: 0.1359 - val_loss: 2.2408 - val_accuracy: 0.1190 - 2s/epoch - 4ms/step\n",
      "Epoch 14/100\n",
      "500/500 - 2s - loss: 2.4807 - accuracy: 0.1274 - val_loss: 2.3866 - val_accuracy: 0.0930 - 2s/epoch - 4ms/step\n",
      "Epoch 15/100\n",
      "500/500 - 2s - loss: 2.3767 - accuracy: 0.1016 - val_loss: 2.3015 - val_accuracy: 0.0935 - 2s/epoch - 4ms/step\n",
      "Epoch 16/100\n",
      "500/500 - 2s - loss: 2.3094 - accuracy: 0.0990 - val_loss: 2.3006 - val_accuracy: 0.0935 - 2s/epoch - 4ms/step\n",
      "Epoch 17/100\n",
      "500/500 - 2s - loss: 2.2985 - accuracy: 0.1026 - val_loss: 2.3004 - val_accuracy: 0.0935 - 2s/epoch - 4ms/step\n",
      "Epoch 18/100\n",
      "500/500 - 2s - loss: 2.3058 - accuracy: 0.1034 - val_loss: 2.3003 - val_accuracy: 0.0935 - 2s/epoch - 4ms/step\n",
      "Epoch 19/100\n",
      "500/500 - 2s - loss: 2.3215 - accuracy: 0.1069 - val_loss: 2.2989 - val_accuracy: 0.0945 - 2s/epoch - 4ms/step\n",
      "Epoch 20/100\n",
      "500/500 - 2s - loss: 2.3328 - accuracy: 0.1070 - val_loss: 2.2851 - val_accuracy: 0.1065 - 2s/epoch - 4ms/step\n",
      "Epoch 21/100\n",
      "500/500 - 2s - loss: 2.2942 - accuracy: 0.1096 - val_loss: 2.2937 - val_accuracy: 0.0965 - 2s/epoch - 4ms/step\n",
      "Epoch 22/100\n",
      "500/500 - 2s - loss: 2.3063 - accuracy: 0.1079 - val_loss: 2.2909 - val_accuracy: 0.0975 - 2s/epoch - 4ms/step\n",
      "Epoch 23/100\n",
      "500/500 - 2s - loss: 2.3483 - accuracy: 0.1019 - val_loss: 2.2501 - val_accuracy: 0.1150 - 2s/epoch - 4ms/step\n",
      "Epoch 24/100\n",
      "500/500 - 2s - loss: 2.2978 - accuracy: 0.1093 - val_loss: 2.2789 - val_accuracy: 0.1030 - 2s/epoch - 4ms/step\n",
      "Epoch 25/100\n",
      "500/500 - 2s - loss: 2.2734 - accuracy: 0.1139 - val_loss: 2.2985 - val_accuracy: 0.0945 - 2s/epoch - 4ms/step\n",
      "Epoch 26/100\n",
      "500/500 - 2s - loss: 2.2797 - accuracy: 0.1080 - val_loss: 2.2756 - val_accuracy: 0.1070 - 2s/epoch - 4ms/step\n",
      "Epoch 27/100\n",
      "500/500 - 2s - loss: 2.2738 - accuracy: 0.1190 - val_loss: 2.3095 - val_accuracy: 0.1065 - 2s/epoch - 4ms/step\n",
      "Epoch 28/100\n",
      "500/500 - 2s - loss: 2.3072 - accuracy: 0.1032 - val_loss: 2.2939 - val_accuracy: 0.0970 - 2s/epoch - 4ms/step\n",
      "Epoch 29/100\n",
      "500/500 - 2s - loss: 2.2963 - accuracy: 0.1101 - val_loss: 2.3006 - val_accuracy: 0.0965 - 2s/epoch - 4ms/step\n",
      "Epoch 30/100\n",
      "500/500 - 2s - loss: 2.2993 - accuracy: 0.0976 - val_loss: 2.3026 - val_accuracy: 0.0910 - 2s/epoch - 4ms/step\n",
      "Epoch 31/100\n",
      "500/500 - 2s - loss: 2.2964 - accuracy: 0.0976 - val_loss: 2.3025 - val_accuracy: 0.0925 - 2s/epoch - 4ms/step\n",
      "Epoch 32/100\n",
      "500/500 - 2s - loss: 2.3329 - accuracy: 0.1016 - val_loss: 2.3027 - val_accuracy: 0.0925 - 2s/epoch - 4ms/step\n",
      "Epoch 33/100\n",
      "500/500 - 2s - loss: 2.3006 - accuracy: 0.0994 - val_loss: 2.3024 - val_accuracy: 0.0955 - 2s/epoch - 4ms/step\n",
      "Epoch 34/100\n",
      "500/500 - 2s - loss: 2.2982 - accuracy: 0.0989 - val_loss: 2.3027 - val_accuracy: 0.0955 - 2s/epoch - 4ms/step\n",
      "Epoch 35/100\n",
      "500/500 - 2s - loss: 2.2882 - accuracy: 0.1055 - val_loss: 2.2471 - val_accuracy: 0.1150 - 2s/epoch - 4ms/step\n",
      "Epoch 36/100\n",
      "500/500 - 2s - loss: 2.3078 - accuracy: 0.1074 - val_loss: 2.2911 - val_accuracy: 0.0980 - 2s/epoch - 4ms/step\n",
      "Epoch 37/100\n",
      "500/500 - 2s - loss: 2.2723 - accuracy: 0.1145 - val_loss: 2.2847 - val_accuracy: 0.1155 - 2s/epoch - 4ms/step\n",
      "Epoch 38/100\n",
      "500/500 - 2s - loss: 2.4276 - accuracy: 0.1250 - val_loss: 2.2926 - val_accuracy: 0.0960 - 2s/epoch - 4ms/step\n",
      "Epoch 39/100\n",
      "500/500 - 2s - loss: 2.2999 - accuracy: 0.1031 - val_loss: 2.2938 - val_accuracy: 0.0965 - 2s/epoch - 4ms/step\n",
      "Epoch 40/100\n",
      "500/500 - 2s - loss: 2.2773 - accuracy: 0.1106 - val_loss: 2.2766 - val_accuracy: 0.1035 - 2s/epoch - 4ms/step\n",
      "Epoch 41/100\n",
      "500/500 - 2s - loss: 2.2571 - accuracy: 0.1179 - val_loss: 2.2557 - val_accuracy: 0.1120 - 2s/epoch - 4ms/step\n",
      "Epoch 42/100\n",
      "500/500 - 2s - loss: 2.2242 - accuracy: 0.1314 - val_loss: 2.2742 - val_accuracy: 0.1245 - 2s/epoch - 4ms/step\n",
      "Epoch 43/100\n",
      "500/500 - 2s - loss: 2.3452 - accuracy: 0.1082 - val_loss: 2.3036 - val_accuracy: 0.0935 - 2s/epoch - 4ms/step\n",
      "Epoch 44/100\n",
      "500/500 - 2s - loss: 2.3285 - accuracy: 0.1000 - val_loss: 2.3015 - val_accuracy: 0.0930 - 2s/epoch - 4ms/step\n",
      "Epoch 45/100\n",
      "500/500 - 2s - loss: 2.3699 - accuracy: 0.0985 - val_loss: 2.3012 - val_accuracy: 0.0930 - 2s/epoch - 4ms/step\n",
      "Epoch 46/100\n",
      "500/500 - 2s - loss: 2.2994 - accuracy: 0.0999 - val_loss: 2.3014 - val_accuracy: 0.0930 - 2s/epoch - 4ms/step\n",
      "Epoch 47/100\n",
      "500/500 - 2s - loss: 2.2994 - accuracy: 0.0972 - val_loss: 2.3014 - val_accuracy: 0.0930 - 2s/epoch - 4ms/step\n",
      "Epoch 48/100\n",
      "500/500 - 2s - loss: 2.2993 - accuracy: 0.1021 - val_loss: 2.3014 - val_accuracy: 0.0930 - 2s/epoch - 4ms/step\n",
      "Epoch 49/100\n",
      "500/500 - 2s - loss: 2.3020 - accuracy: 0.1006 - val_loss: 2.3014 - val_accuracy: 0.0930 - 2s/epoch - 4ms/step\n",
      "Epoch 50/100\n",
      "500/500 - 2s - loss: 2.2993 - accuracy: 0.0975 - val_loss: 2.3013 - val_accuracy: 0.0930 - 2s/epoch - 4ms/step\n",
      "Epoch 51/100\n",
      "500/500 - 2s - loss: 2.2934 - accuracy: 0.1059 - val_loss: 2.2852 - val_accuracy: 0.1000 - 2s/epoch - 4ms/step\n",
      "Epoch 52/100\n",
      "500/500 - 2s - loss: 2.2799 - accuracy: 0.1107 - val_loss: 2.3015 - val_accuracy: 0.0930 - 2s/epoch - 4ms/step\n",
      "Epoch 53/100\n",
      "500/500 - 2s - loss: 2.2979 - accuracy: 0.0966 - val_loss: 2.3015 - val_accuracy: 0.0930 - 2s/epoch - 5ms/step\n",
      "Epoch 54/100\n",
      "500/500 - 2s - loss: 2.2985 - accuracy: 0.1004 - val_loss: 2.3016 - val_accuracy: 0.0930 - 2s/epoch - 5ms/step\n",
      "Epoch 55/100\n",
      "500/500 - 2s - loss: 2.2976 - accuracy: 0.1016 - val_loss: 2.3015 - val_accuracy: 0.0930 - 2s/epoch - 5ms/step\n",
      "Epoch 56/100\n",
      "500/500 - 2s - loss: 2.2973 - accuracy: 0.1032 - val_loss: 2.3016 - val_accuracy: 0.0930 - 2s/epoch - 5ms/step\n",
      "Epoch 57/100\n",
      "500/500 - 3s - loss: 2.2964 - accuracy: 0.1023 - val_loss: 2.3016 - val_accuracy: 0.0915 - 3s/epoch - 5ms/step\n",
      "Epoch 58/100\n",
      "500/500 - 2s - loss: 2.3279 - accuracy: 0.1046 - val_loss: 2.2571 - val_accuracy: 0.1120 - 2s/epoch - 4ms/step\n",
      "Epoch 59/100\n",
      "500/500 - 3s - loss: 2.2675 - accuracy: 0.1156 - val_loss: 2.2981 - val_accuracy: 0.0945 - 3s/epoch - 5ms/step\n",
      "Epoch 60/100\n",
      "500/500 - 2s - loss: 2.2857 - accuracy: 0.1056 - val_loss: 2.2906 - val_accuracy: 0.0980 - 2s/epoch - 5ms/step\n",
      "Epoch 61/100\n",
      "500/500 - 2s - loss: 2.2746 - accuracy: 0.1112 - val_loss: 2.2743 - val_accuracy: 0.1045 - 2s/epoch - 5ms/step\n",
      "Epoch 62/100\n",
      "500/500 - 2s - loss: 2.2751 - accuracy: 0.1134 - val_loss: 2.3012 - val_accuracy: 0.0930 - 2s/epoch - 4ms/step\n",
      "Epoch 63/100\n",
      "500/500 - 2s - loss: 2.2913 - accuracy: 0.1035 - val_loss: 2.2982 - val_accuracy: 0.0945 - 2s/epoch - 4ms/step\n",
      "Epoch 64/100\n",
      "500/500 - 2s - loss: 2.2903 - accuracy: 0.1031 - val_loss: 2.2987 - val_accuracy: 0.0945 - 2s/epoch - 4ms/step\n",
      "Epoch 65/100\n",
      "500/500 - 2s - loss: 2.2874 - accuracy: 0.1066 - val_loss: 2.2913 - val_accuracy: 0.0975 - 2s/epoch - 4ms/step\n",
      "Epoch 66/100\n",
      "500/500 - 2s - loss: 2.2655 - accuracy: 0.1175 - val_loss: 2.3158 - val_accuracy: 0.1110 - 2s/epoch - 4ms/step\n",
      "Epoch 67/100\n",
      "500/500 - 2s - loss: 2.2588 - accuracy: 0.1204 - val_loss: 2.2949 - val_accuracy: 0.0960 - 2s/epoch - 4ms/step\n",
      "Epoch 68/100\n",
      "500/500 - 2s - loss: 2.2774 - accuracy: 0.1082 - val_loss: 2.2814 - val_accuracy: 0.1015 - 2s/epoch - 4ms/step\n",
      "Epoch 69/100\n",
      "500/500 - 2s - loss: 2.3530 - accuracy: 0.1111 - val_loss: 2.2980 - val_accuracy: 0.0950 - 2s/epoch - 4ms/step\n",
      "Epoch 70/100\n",
      "500/500 - 2s - loss: 2.2915 - accuracy: 0.0996 - val_loss: 2.2975 - val_accuracy: 0.0950 - 2s/epoch - 4ms/step\n",
      "Epoch 71/100\n",
      "500/500 - 2s - loss: 2.2885 - accuracy: 0.1039 - val_loss: 2.2695 - val_accuracy: 0.1065 - 2s/epoch - 4ms/step\n",
      "Epoch 72/100\n",
      "500/500 - 2s - loss: 2.2493 - accuracy: 0.1248 - val_loss: 2.3374 - val_accuracy: 0.1220 - 2s/epoch - 4ms/step\n",
      "Epoch 73/100\n",
      "500/500 - 2s - loss: 2.2720 - accuracy: 0.1176 - val_loss: 2.2742 - val_accuracy: 0.1045 - 2s/epoch - 4ms/step\n",
      "Epoch 74/100\n",
      "500/500 - 2s - loss: 2.3036 - accuracy: 0.1159 - val_loss: 2.2986 - val_accuracy: 0.0945 - 2s/epoch - 4ms/step\n",
      "Epoch 75/100\n",
      "500/500 - 2s - loss: 2.2980 - accuracy: 0.1089 - val_loss: 2.2909 - val_accuracy: 0.0975 - 2s/epoch - 4ms/step\n",
      "Epoch 76/100\n",
      "500/500 - 2s - loss: 2.2816 - accuracy: 0.1093 - val_loss: 2.2778 - val_accuracy: 0.1030 - 2s/epoch - 4ms/step\n",
      "Epoch 77/100\n",
      "500/500 - 2s - loss: 2.2740 - accuracy: 0.1139 - val_loss: 2.2765 - val_accuracy: 0.1035 - 2s/epoch - 4ms/step\n",
      "Epoch 78/100\n",
      "500/500 - 2s - loss: 2.2740 - accuracy: 0.1120 - val_loss: 2.2764 - val_accuracy: 0.1035 - 2s/epoch - 4ms/step\n",
      "Epoch 79/100\n",
      "500/500 - 3s - loss: 2.3114 - accuracy: 0.1039 - val_loss: 2.2898 - val_accuracy: 0.0980 - 3s/epoch - 6ms/step\n",
      "Epoch 80/100\n",
      "500/500 - 3s - loss: 2.2882 - accuracy: 0.1077 - val_loss: 2.2886 - val_accuracy: 0.0985 - 3s/epoch - 6ms/step\n",
      "Epoch 81/100\n",
      "500/500 - 2s - loss: 2.2800 - accuracy: 0.1090 - val_loss: 2.2826 - val_accuracy: 0.1010 - 2s/epoch - 4ms/step\n",
      "Epoch 82/100\n",
      "500/500 - 2s - loss: 2.2791 - accuracy: 0.1064 - val_loss: 2.2827 - val_accuracy: 0.0995 - 2s/epoch - 4ms/step\n",
      "Epoch 83/100\n",
      "500/500 - 2s - loss: 2.2806 - accuracy: 0.1080 - val_loss: 2.2827 - val_accuracy: 0.1010 - 2s/epoch - 4ms/step\n",
      "Epoch 84/100\n",
      "500/500 - 2s - loss: 2.2776 - accuracy: 0.1079 - val_loss: 2.2778 - val_accuracy: 0.1030 - 2s/epoch - 4ms/step\n",
      "Epoch 85/100\n",
      "500/500 - 2s - loss: 2.2785 - accuracy: 0.1086 - val_loss: 2.2779 - val_accuracy: 0.1030 - 2s/epoch - 4ms/step\n",
      "Epoch 86/100\n",
      "500/500 - 2s - loss: 2.4163 - accuracy: 0.1055 - val_loss: 2.2863 - val_accuracy: 0.0995 - 2s/epoch - 4ms/step\n",
      "Epoch 87/100\n",
      "500/500 - 2s - loss: 2.2827 - accuracy: 0.1044 - val_loss: 2.2840 - val_accuracy: 0.1005 - 2s/epoch - 4ms/step\n",
      "Epoch 88/100\n",
      "500/500 - 2s - loss: 2.2809 - accuracy: 0.1042 - val_loss: 2.2825 - val_accuracy: 0.1010 - 2s/epoch - 4ms/step\n",
      "Epoch 89/100\n",
      "500/500 - 2s - loss: 2.2794 - accuracy: 0.1065 - val_loss: 2.2753 - val_accuracy: 0.1040 - 2s/epoch - 4ms/step\n",
      "Epoch 90/100\n",
      "500/500 - 2s - loss: 2.2746 - accuracy: 0.1109 - val_loss: 2.2752 - val_accuracy: 0.1040 - 2s/epoch - 4ms/step\n",
      "Epoch 91/100\n",
      "500/500 - 2s - loss: 2.2795 - accuracy: 0.1101 - val_loss: 2.2957 - val_accuracy: 0.0955 - 2s/epoch - 4ms/step\n",
      "Epoch 92/100\n",
      "500/500 - 2s - loss: 2.2944 - accuracy: 0.1077 - val_loss: 2.2896 - val_accuracy: 0.0980 - 2s/epoch - 4ms/step\n",
      "Epoch 93/100\n",
      "500/500 - 2s - loss: 2.2830 - accuracy: 0.1075 - val_loss: 2.2896 - val_accuracy: 0.0980 - 2s/epoch - 4ms/step\n",
      "Epoch 94/100\n",
      "500/500 - 2s - loss: 2.2678 - accuracy: 0.1161 - val_loss: 2.2763 - val_accuracy: 0.1035 - 2s/epoch - 4ms/step\n",
      "Epoch 95/100\n",
      "500/500 - 2s - loss: 2.2689 - accuracy: 0.1098 - val_loss: 2.2764 - val_accuracy: 0.1035 - 2s/epoch - 4ms/step\n",
      "Epoch 96/100\n",
      "500/500 - 2s - loss: 2.2813 - accuracy: 0.1163 - val_loss: 2.2831 - val_accuracy: 0.1010 - 2s/epoch - 4ms/step\n",
      "Epoch 97/100\n",
      "500/500 - 2s - loss: 2.2752 - accuracy: 0.1100 - val_loss: 2.2813 - val_accuracy: 0.1000 - 2s/epoch - 4ms/step\n",
      "Epoch 98/100\n",
      "500/500 - 2s - loss: 2.2513 - accuracy: 0.1138 - val_loss: 2.2521 - val_accuracy: 0.1135 - 2s/epoch - 4ms/step\n",
      "Epoch 99/100\n",
      "500/500 - 2s - loss: 2.3760 - accuracy: 0.1155 - val_loss: 2.2593 - val_accuracy: 0.1105 - 2s/epoch - 5ms/step\n",
      "Epoch 100/100\n",
      "500/500 - 2s - loss: 2.2457 - accuracy: 0.1230 - val_loss: 2.2570 - val_accuracy: 0.1100 - 2s/epoch - 5ms/step\n"
     ]
    },
    {
     "data": {
      "text/plain": [
       "<keras.callbacks.History at 0x7ff66b30a850>"
      ]
     },
     "execution_count": 79,
     "metadata": {},
     "output_type": "execute_result"
    }
   ],
   "source": [
    "model.fit(X_train, Y_train,\n",
    "          epochs=100, batch_size=16,\n",
    "          validation_split=0.2, # don't change the validation split\n",
    "          verbose=2)"
   ]
  },
  {
   "cell_type": "code",
   "execution_count": null,
   "metadata": {},
   "outputs": [],
   "source": []
  }
 ],
 "metadata": {
  "kernelspec": {
   "display_name": "drunk",
   "language": "python",
   "name": "python3"
  },
  "language_info": {
   "codemirror_mode": {
    "name": "ipython",
    "version": 3
   },
   "file_extension": ".py",
   "mimetype": "text/x-python",
   "name": "python",
   "nbconvert_exporter": "python",
   "pygments_lexer": "ipython3",
   "version": "3.7.15"
  }
 },
 "nbformat": 4,
 "nbformat_minor": 2
}
