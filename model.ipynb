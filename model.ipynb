{
 "cells": [
  {
   "cell_type": "code",
   "execution_count": 1,
   "metadata": {},
   "outputs": [
    {
     "name": "stderr",
     "output_type": "stream",
     "text": [
      "2024-04-21 17:22:15.077736: I tensorflow/core/platform/cpu_feature_guard.cc:193] This TensorFlow binary is optimized with oneAPI Deep Neural Network Library (oneDNN) to use the following CPU instructions in performance-critical operations:  AVX2 AVX512F AVX512_VNNI FMA\n",
      "To enable them in other operations, rebuild TensorFlow with the appropriate compiler flags.\n",
      "2024-04-21 17:22:15.333046: I tensorflow/core/util/port.cc:104] oneDNN custom operations are on. You may see slightly different numerical results due to floating-point round-off errors from different computation orders. To turn them off, set the environment variable `TF_ENABLE_ONEDNN_OPTS=0`.\n",
      "2024-04-21 17:22:15.370000: W tensorflow/compiler/xla/stream_executor/platform/default/dso_loader.cc:64] Could not load dynamic library 'libcudart.so.11.0'; dlerror: libcudart.so.11.0: cannot open shared object file: No such file or directory; LD_LIBRARY_PATH: :/usr/local/cuda/lib64:/usr/local/cuda/extras/CUPTI/lib64\n",
      "2024-04-21 17:22:15.370015: I tensorflow/compiler/xla/stream_executor/cuda/cudart_stub.cc:29] Ignore above cudart dlerror if you do not have a GPU set up on your machine.\n",
      "2024-04-21 17:22:16.270086: W tensorflow/compiler/xla/stream_executor/platform/default/dso_loader.cc:64] Could not load dynamic library 'libnvinfer.so.7'; dlerror: libnvinfer.so.7: cannot open shared object file: No such file or directory; LD_LIBRARY_PATH: :/usr/local/cuda/lib64:/usr/local/cuda/extras/CUPTI/lib64\n",
      "2024-04-21 17:22:16.270202: W tensorflow/compiler/xla/stream_executor/platform/default/dso_loader.cc:64] Could not load dynamic library 'libnvinfer_plugin.so.7'; dlerror: libnvinfer_plugin.so.7: cannot open shared object file: No such file or directory; LD_LIBRARY_PATH: :/usr/local/cuda/lib64:/usr/local/cuda/extras/CUPTI/lib64\n",
      "2024-04-21 17:22:16.270208: W tensorflow/compiler/tf2tensorrt/utils/py_utils.cc:38] TF-TRT Warning: Cannot dlopen some TensorRT libraries. If you would like to use Nvidia GPU with TensorRT, please make sure the missing libraries mentioned above are installed properly.\n"
     ]
    }
   ],
   "source": [
    "import numpy as np\n",
    "import pandas as pd\n",
    "from tensorflow.keras.models import Sequential\n",
    "from tensorflow.keras.utils import to_categorical\n",
    "from tensorflow.keras.layers import Activation, Dense, Flatten, Conv2D, MaxPool2D, Dropout, BatchNormalization\n",
    "from tensorflow.keras.callbacks import EarlyStopping\n",
    "from tensorflow.keras.optimizers import SGD, Adam\n",
    "import matplotlib.pyplot as plt\n",
    "import seaborn as sns"
   ]
  },
  {
   "cell_type": "code",
   "execution_count": 2,
   "metadata": {},
   "outputs": [],
   "source": [
    "X_train = np.load('X_train.npy')\n",
    "Y_train = np.load('Y_train.npy')\n",
    "X_test = np.load('X_test.npy')\n",
    "Y_test = np.load('Y_test.npy')"
   ]
  },
  {
   "cell_type": "code",
   "execution_count": 3,
   "metadata": {},
   "outputs": [],
   "source": [
    "X_train = X_train[..., np.newaxis]\n",
    "X_test = X_test[..., np.newaxis]\n"
   ]
  },
  {
   "cell_type": "code",
   "execution_count": 4,
   "metadata": {},
   "outputs": [
    {
     "data": {
      "text/plain": [
       "(862, 13, 1)"
      ]
     },
     "execution_count": 4,
     "metadata": {},
     "output_type": "execute_result"
    }
   ],
   "source": [
    "input_shape = X_train.shape[1:]\n",
    "input_shape"
   ]
  },
  {
   "cell_type": "code",
   "execution_count": 5,
   "metadata": {},
   "outputs": [
    {
     "name": "stderr",
     "output_type": "stream",
     "text": [
      "2024-04-21 17:22:18.248831: I tensorflow/compiler/xla/stream_executor/cuda/cuda_gpu_executor.cc:967] could not open file to read NUMA node: /sys/bus/pci/devices/0000:01:00.0/numa_node\n",
      "Your kernel may have been built without NUMA support.\n",
      "2024-04-21 17:22:18.249022: W tensorflow/compiler/xla/stream_executor/platform/default/dso_loader.cc:64] Could not load dynamic library 'libcudart.so.11.0'; dlerror: libcudart.so.11.0: cannot open shared object file: No such file or directory; LD_LIBRARY_PATH: :/usr/local/cuda/lib64:/usr/local/cuda/extras/CUPTI/lib64\n",
      "2024-04-21 17:22:18.249103: W tensorflow/compiler/xla/stream_executor/platform/default/dso_loader.cc:64] Could not load dynamic library 'libcublas.so.11'; dlerror: libcublas.so.11: cannot open shared object file: No such file or directory; LD_LIBRARY_PATH: :/usr/local/cuda/lib64:/usr/local/cuda/extras/CUPTI/lib64\n",
      "2024-04-21 17:22:18.249148: W tensorflow/compiler/xla/stream_executor/platform/default/dso_loader.cc:64] Could not load dynamic library 'libcublasLt.so.11'; dlerror: libcublasLt.so.11: cannot open shared object file: No such file or directory; LD_LIBRARY_PATH: :/usr/local/cuda/lib64:/usr/local/cuda/extras/CUPTI/lib64\n",
      "2024-04-21 17:22:18.249189: W tensorflow/compiler/xla/stream_executor/platform/default/dso_loader.cc:64] Could not load dynamic library 'libcufft.so.10'; dlerror: libcufft.so.10: cannot open shared object file: No such file or directory; LD_LIBRARY_PATH: :/usr/local/cuda/lib64:/usr/local/cuda/extras/CUPTI/lib64\n",
      "2024-04-21 17:22:18.373367: W tensorflow/compiler/xla/stream_executor/platform/default/dso_loader.cc:64] Could not load dynamic library 'libcusparse.so.11'; dlerror: libcusparse.so.11: cannot open shared object file: No such file or directory; LD_LIBRARY_PATH: :/usr/local/cuda/lib64:/usr/local/cuda/extras/CUPTI/lib64\n",
      "2024-04-21 17:22:18.374234: W tensorflow/core/common_runtime/gpu/gpu_device.cc:1934] Cannot dlopen some GPU libraries. Please make sure the missing libraries mentioned above are installed properly if you would like to use GPU. Follow the guide at https://www.tensorflow.org/install/gpu for how to download and setup the required libraries for your platform.\n",
      "Skipping registering GPU devices...\n",
      "2024-04-21 17:22:18.375248: I tensorflow/core/platform/cpu_feature_guard.cc:193] This TensorFlow binary is optimized with oneAPI Deep Neural Network Library (oneDNN) to use the following CPU instructions in performance-critical operations:  AVX2 AVX512F AVX512_VNNI FMA\n",
      "To enable them in other operations, rebuild TensorFlow with the appropriate compiler flags.\n"
     ]
    },
    {
     "name": "stdout",
     "output_type": "stream",
     "text": [
      "Model: \"sequential\"\n",
      "_________________________________________________________________\n",
      " Layer (type)                Output Shape              Param #   \n",
      "=================================================================\n",
      " conv2d (Conv2D)             (None, 860, 11, 64)       640       \n",
      "                                                                 \n",
      " max_pooling2d (MaxPooling2D  (None, 430, 6, 64)       0         \n",
      " )                                                               \n",
      "                                                                 \n",
      " batch_normalization (BatchN  (None, 430, 6, 64)       256       \n",
      " ormalization)                                                   \n",
      "                                                                 \n",
      " conv2d_1 (Conv2D)           (None, 428, 4, 32)        18464     \n",
      "                                                                 \n",
      " max_pooling2d_1 (MaxPooling  (None, 214, 2, 32)       0         \n",
      " 2D)                                                             \n",
      "                                                                 \n",
      " batch_normalization_1 (Batc  (None, 214, 2, 32)       128       \n",
      " hNormalization)                                                 \n",
      "                                                                 \n",
      " conv2d_2 (Conv2D)           (None, 213, 1, 32)        4128      \n",
      "                                                                 \n",
      " max_pooling2d_2 (MaxPooling  (None, 107, 1, 32)       0         \n",
      " 2D)                                                             \n",
      "                                                                 \n",
      " batch_normalization_2 (Batc  (None, 107, 1, 32)       128       \n",
      " hNormalization)                                                 \n",
      "                                                                 \n",
      " conv2d_3 (Conv2D)           (None, 107, 1, 16)        528       \n",
      "                                                                 \n",
      " max_pooling2d_3 (MaxPooling  (None, 54, 1, 16)        0         \n",
      " 2D)                                                             \n",
      "                                                                 \n",
      " batch_normalization_3 (Batc  (None, 54, 1, 16)        64        \n",
      " hNormalization)                                                 \n",
      "                                                                 \n",
      " flatten (Flatten)           (None, 864)               0         \n",
      "                                                                 \n",
      " dense (Dense)               (None, 64)                55360     \n",
      "                                                                 \n",
      " dropout (Dropout)           (None, 64)                0         \n",
      "                                                                 \n",
      " dense_1 (Dense)             (None, 10)                650       \n",
      "                                                                 \n",
      "=================================================================\n",
      "Total params: 80,346\n",
      "Trainable params: 80,058\n",
      "Non-trainable params: 288\n",
      "_________________________________________________________________\n"
     ]
    }
   ],
   "source": [
    "model = Sequential()\n",
    "model.add(Conv2D(64, (3, 3), activation = \"relu\", input_shape = input_shape))\n",
    "model.add(MaxPool2D((3, 3), strides=(2, 2), padding=\"same\"))\n",
    "model.add(BatchNormalization())\n",
    "\n",
    "model.add(Conv2D(32, (3, 3), activation = \"relu\"))\n",
    "model.add(MaxPool2D((3, 3), strides=(2, 2), padding=\"same\"))\n",
    "model.add(BatchNormalization())\n",
    "\n",
    "model.add(Conv2D(32, (2, 2), activation = \"relu\"))\n",
    "model.add(MaxPool2D((2, 2), strides=(2, 2), padding=\"same\"))\n",
    "model.add(BatchNormalization())\n",
    "\n",
    "model.add(Conv2D(16, (1, 1), activation = \"relu\"))\n",
    "model.add(MaxPool2D((1, 1), strides=(2, 2), padding=\"same\"))\n",
    "model.add(BatchNormalization())\n",
    "\n",
    "model.add(Flatten())\n",
    "model.add(Dense(64, activation=\"relu\"))\n",
    "model.add(Dropout(0.3))\n",
    "model.add(Dense(10, activation=\"softmax\"))\n",
    "\n",
    "model.summary()"
   ]
  },
  {
   "cell_type": "code",
   "execution_count": 6,
   "metadata": {},
   "outputs": [],
   "source": [
    "model.compile(loss=\"sparse_categorical_crossentropy\", optimizer= Adam(learning_rate=1e-4), metrics=['accuracy'])"
   ]
  },
  {
   "cell_type": "code",
   "execution_count": 7,
   "metadata": {},
   "outputs": [],
   "source": [
    "es = EarlyStopping(patience=10, restore_best_weights=True, monitor=\"val_loss\")"
   ]
  },
  {
   "cell_type": "code",
   "execution_count": 8,
   "metadata": {},
   "outputs": [
    {
     "name": "stdout",
     "output_type": "stream",
     "text": [
      "Epoch 1/100\n",
      "313/313 [==============================] - 23s 69ms/step - loss: 2.0897 - accuracy: 0.3108 - val_loss: 1.4937 - val_accuracy: 0.4430\n",
      "Epoch 2/100\n",
      "313/313 [==============================] - 21s 66ms/step - loss: 1.4967 - accuracy: 0.4736 - val_loss: 1.1792 - val_accuracy: 0.5735\n",
      "Epoch 3/100\n",
      "313/313 [==============================] - 20s 65ms/step - loss: 1.2824 - accuracy: 0.5440 - val_loss: 1.0279 - val_accuracy: 0.6380\n",
      "Epoch 4/100\n",
      "313/313 [==============================] - 20s 65ms/step - loss: 1.1435 - accuracy: 0.5861 - val_loss: 0.9065 - val_accuracy: 0.6815\n",
      "Epoch 5/100\n",
      "313/313 [==============================] - 20s 65ms/step - loss: 1.0245 - accuracy: 0.6333 - val_loss: 0.8569 - val_accuracy: 0.7080\n",
      "Epoch 6/100\n",
      "313/313 [==============================] - 20s 65ms/step - loss: 0.9189 - accuracy: 0.6754 - val_loss: 0.7251 - val_accuracy: 0.7435\n",
      "Epoch 7/100\n",
      "313/313 [==============================] - 21s 67ms/step - loss: 0.8121 - accuracy: 0.7110 - val_loss: 0.6439 - val_accuracy: 0.7780\n",
      "Epoch 8/100\n",
      "313/313 [==============================] - 20s 64ms/step - loss: 0.7557 - accuracy: 0.7347 - val_loss: 0.5994 - val_accuracy: 0.7995\n",
      "Epoch 9/100\n",
      "313/313 [==============================] - 20s 64ms/step - loss: 0.6891 - accuracy: 0.7649 - val_loss: 0.6300 - val_accuracy: 0.7830\n",
      "Epoch 10/100\n",
      "313/313 [==============================] - 20s 64ms/step - loss: 0.6203 - accuracy: 0.7817 - val_loss: 0.6499 - val_accuracy: 0.7770\n",
      "Epoch 11/100\n",
      "313/313 [==============================] - 20s 64ms/step - loss: 0.5825 - accuracy: 0.7973 - val_loss: 0.4686 - val_accuracy: 0.8405\n",
      "Epoch 12/100\n",
      "313/313 [==============================] - 20s 64ms/step - loss: 0.5345 - accuracy: 0.8190 - val_loss: 0.4180 - val_accuracy: 0.8440\n",
      "Epoch 13/100\n",
      "313/313 [==============================] - 21s 67ms/step - loss: 0.4961 - accuracy: 0.8280 - val_loss: 0.4510 - val_accuracy: 0.8385\n",
      "Epoch 14/100\n",
      "313/313 [==============================] - 20s 65ms/step - loss: 0.4577 - accuracy: 0.8410 - val_loss: 0.4018 - val_accuracy: 0.8640\n",
      "Epoch 15/100\n",
      "313/313 [==============================] - 20s 64ms/step - loss: 0.4338 - accuracy: 0.8464 - val_loss: 0.3892 - val_accuracy: 0.8645\n",
      "Epoch 16/100\n",
      "313/313 [==============================] - 20s 64ms/step - loss: 0.3907 - accuracy: 0.8665 - val_loss: 0.4314 - val_accuracy: 0.8420\n",
      "Epoch 17/100\n",
      "313/313 [==============================] - 20s 64ms/step - loss: 0.3754 - accuracy: 0.8716 - val_loss: 0.3427 - val_accuracy: 0.8880\n",
      "Epoch 18/100\n",
      "313/313 [==============================] - 20s 65ms/step - loss: 0.3403 - accuracy: 0.8822 - val_loss: 0.3328 - val_accuracy: 0.8865\n",
      "Epoch 19/100\n",
      "313/313 [==============================] - 20s 65ms/step - loss: 0.3326 - accuracy: 0.8878 - val_loss: 0.2972 - val_accuracy: 0.8945\n",
      "Epoch 20/100\n",
      "313/313 [==============================] - 20s 64ms/step - loss: 0.3104 - accuracy: 0.8960 - val_loss: 0.2580 - val_accuracy: 0.9135\n",
      "Epoch 21/100\n",
      "313/313 [==============================] - 20s 64ms/step - loss: 0.2958 - accuracy: 0.8994 - val_loss: 0.3071 - val_accuracy: 0.8895\n",
      "Epoch 22/100\n",
      "313/313 [==============================] - 20s 64ms/step - loss: 0.2809 - accuracy: 0.9038 - val_loss: 0.2563 - val_accuracy: 0.9100\n",
      "Epoch 23/100\n",
      "313/313 [==============================] - 20s 64ms/step - loss: 0.2478 - accuracy: 0.9186 - val_loss: 0.2330 - val_accuracy: 0.9165\n",
      "Epoch 24/100\n",
      "313/313 [==============================] - 20s 65ms/step - loss: 0.2353 - accuracy: 0.9204 - val_loss: 0.2614 - val_accuracy: 0.9050\n",
      "Epoch 25/100\n",
      "313/313 [==============================] - 20s 64ms/step - loss: 0.2312 - accuracy: 0.9223 - val_loss: 0.2442 - val_accuracy: 0.9125\n",
      "Epoch 26/100\n",
      "313/313 [==============================] - 20s 64ms/step - loss: 0.2161 - accuracy: 0.9274 - val_loss: 0.3205 - val_accuracy: 0.8840\n",
      "Epoch 27/100\n",
      "313/313 [==============================] - 20s 64ms/step - loss: 0.2041 - accuracy: 0.9300 - val_loss: 0.2183 - val_accuracy: 0.9235\n",
      "Epoch 28/100\n",
      "313/313 [==============================] - 20s 64ms/step - loss: 0.1941 - accuracy: 0.9330 - val_loss: 0.2164 - val_accuracy: 0.9285\n",
      "Epoch 29/100\n",
      "313/313 [==============================] - 20s 64ms/step - loss: 0.1900 - accuracy: 0.9368 - val_loss: 0.2007 - val_accuracy: 0.9330\n",
      "Epoch 30/100\n",
      "313/313 [==============================] - 20s 64ms/step - loss: 0.1839 - accuracy: 0.9402 - val_loss: 0.1940 - val_accuracy: 0.9385\n",
      "Epoch 31/100\n",
      "313/313 [==============================] - 20s 64ms/step - loss: 0.1671 - accuracy: 0.9451 - val_loss: 0.1494 - val_accuracy: 0.9510\n",
      "Epoch 32/100\n",
      "313/313 [==============================] - 20s 64ms/step - loss: 0.1604 - accuracy: 0.9454 - val_loss: 0.2046 - val_accuracy: 0.9270\n",
      "Epoch 33/100\n",
      "313/313 [==============================] - 20s 64ms/step - loss: 0.1540 - accuracy: 0.9457 - val_loss: 0.1795 - val_accuracy: 0.9420\n",
      "Epoch 34/100\n",
      "313/313 [==============================] - 20s 64ms/step - loss: 0.1504 - accuracy: 0.9509 - val_loss: 0.2472 - val_accuracy: 0.9185\n",
      "Epoch 35/100\n",
      "313/313 [==============================] - 20s 64ms/step - loss: 0.1349 - accuracy: 0.9546 - val_loss: 0.1792 - val_accuracy: 0.9335\n",
      "Epoch 36/100\n",
      "313/313 [==============================] - 20s 64ms/step - loss: 0.1300 - accuracy: 0.9567 - val_loss: 0.1476 - val_accuracy: 0.9495\n",
      "Epoch 37/100\n",
      "313/313 [==============================] - 20s 64ms/step - loss: 0.1311 - accuracy: 0.9548 - val_loss: 0.2130 - val_accuracy: 0.9170\n",
      "Epoch 38/100\n",
      "313/313 [==============================] - 20s 64ms/step - loss: 0.1171 - accuracy: 0.9609 - val_loss: 0.1733 - val_accuracy: 0.9365\n",
      "Epoch 39/100\n",
      "313/313 [==============================] - 20s 64ms/step - loss: 0.1108 - accuracy: 0.9630 - val_loss: 0.1959 - val_accuracy: 0.9305\n",
      "Epoch 40/100\n",
      "313/313 [==============================] - 20s 64ms/step - loss: 0.1181 - accuracy: 0.9606 - val_loss: 0.2134 - val_accuracy: 0.9225\n",
      "Epoch 41/100\n",
      "313/313 [==============================] - 20s 64ms/step - loss: 0.1133 - accuracy: 0.9621 - val_loss: 0.1607 - val_accuracy: 0.9405\n",
      "Epoch 42/100\n",
      "313/313 [==============================] - 20s 64ms/step - loss: 0.1039 - accuracy: 0.9658 - val_loss: 0.1440 - val_accuracy: 0.9505\n",
      "Epoch 43/100\n",
      "313/313 [==============================] - 20s 64ms/step - loss: 0.1045 - accuracy: 0.9633 - val_loss: 0.1824 - val_accuracy: 0.9305\n",
      "Epoch 44/100\n",
      "313/313 [==============================] - 20s 64ms/step - loss: 0.0943 - accuracy: 0.9669 - val_loss: 0.1473 - val_accuracy: 0.9480\n",
      "Epoch 45/100\n",
      "313/313 [==============================] - 20s 64ms/step - loss: 0.0929 - accuracy: 0.9691 - val_loss: 0.1663 - val_accuracy: 0.9440\n",
      "Epoch 46/100\n",
      "313/313 [==============================] - 20s 64ms/step - loss: 0.0954 - accuracy: 0.9697 - val_loss: 0.2855 - val_accuracy: 0.9100\n",
      "Epoch 47/100\n",
      "313/313 [==============================] - 20s 64ms/step - loss: 0.0929 - accuracy: 0.9672 - val_loss: 0.1620 - val_accuracy: 0.9430\n",
      "Epoch 48/100\n",
      "313/313 [==============================] - 20s 64ms/step - loss: 0.0886 - accuracy: 0.9727 - val_loss: 0.3156 - val_accuracy: 0.9015\n",
      "Epoch 49/100\n",
      "313/313 [==============================] - 20s 64ms/step - loss: 0.0895 - accuracy: 0.9685 - val_loss: 0.1080 - val_accuracy: 0.9640\n",
      "Epoch 50/100\n",
      "313/313 [==============================] - 20s 64ms/step - loss: 0.0819 - accuracy: 0.9750 - val_loss: 0.1575 - val_accuracy: 0.9435\n",
      "Epoch 51/100\n",
      "313/313 [==============================] - 20s 64ms/step - loss: 0.0817 - accuracy: 0.9709 - val_loss: 0.1303 - val_accuracy: 0.9550\n",
      "Epoch 52/100\n",
      "313/313 [==============================] - 20s 64ms/step - loss: 0.0832 - accuracy: 0.9714 - val_loss: 0.1811 - val_accuracy: 0.9360\n",
      "Epoch 53/100\n",
      "313/313 [==============================] - 20s 64ms/step - loss: 0.0779 - accuracy: 0.9739 - val_loss: 0.1437 - val_accuracy: 0.9510\n",
      "Epoch 54/100\n",
      "313/313 [==============================] - 20s 64ms/step - loss: 0.0736 - accuracy: 0.9752 - val_loss: 0.1479 - val_accuracy: 0.9515\n",
      "Epoch 55/100\n",
      "313/313 [==============================] - 20s 64ms/step - loss: 0.0706 - accuracy: 0.9772 - val_loss: 0.0983 - val_accuracy: 0.9670\n",
      "Epoch 56/100\n",
      "313/313 [==============================] - 20s 64ms/step - loss: 0.0662 - accuracy: 0.9799 - val_loss: 0.2019 - val_accuracy: 0.9345\n",
      "Epoch 57/100\n",
      "313/313 [==============================] - 20s 64ms/step - loss: 0.0714 - accuracy: 0.9765 - val_loss: 0.1661 - val_accuracy: 0.9380\n",
      "Epoch 58/100\n",
      "313/313 [==============================] - 20s 64ms/step - loss: 0.0685 - accuracy: 0.9792 - val_loss: 0.1187 - val_accuracy: 0.9630\n",
      "Epoch 59/100\n",
      "313/313 [==============================] - 20s 64ms/step - loss: 0.0663 - accuracy: 0.9780 - val_loss: 0.1449 - val_accuracy: 0.9530\n",
      "Epoch 60/100\n",
      "313/313 [==============================] - 20s 64ms/step - loss: 0.0648 - accuracy: 0.9776 - val_loss: 0.1342 - val_accuracy: 0.9535\n",
      "Epoch 61/100\n",
      "313/313 [==============================] - 20s 64ms/step - loss: 0.0580 - accuracy: 0.9828 - val_loss: 0.1463 - val_accuracy: 0.9500\n",
      "Epoch 62/100\n",
      "313/313 [==============================] - 20s 64ms/step - loss: 0.0649 - accuracy: 0.9772 - val_loss: 0.1377 - val_accuracy: 0.9530\n",
      "Epoch 63/100\n",
      "313/313 [==============================] - 20s 64ms/step - loss: 0.0590 - accuracy: 0.9803 - val_loss: 0.1935 - val_accuracy: 0.9380\n",
      "Epoch 64/100\n",
      "313/313 [==============================] - 20s 64ms/step - loss: 0.0661 - accuracy: 0.9799 - val_loss: 0.1425 - val_accuracy: 0.9475\n",
      "Epoch 65/100\n",
      "313/313 [==============================] - 20s 64ms/step - loss: 0.0538 - accuracy: 0.9825 - val_loss: 0.1090 - val_accuracy: 0.9620\n"
     ]
    }
   ],
   "source": [
    "hist = model.fit(X_train, Y_train,\n",
    "                 validation_data = (X_test,Y_test),\n",
    "                 epochs = 100,\n",
    "                 batch_size = 32,\n",
    "                 callbacks = [es]\n",
    "                 )"
   ]
  },
  {
   "cell_type": "code",
   "execution_count": 9,
   "metadata": {},
   "outputs": [],
   "source": [
    "def plot_history(hist):\n",
    "    plt.figure(figsize=(20,15))\n",
    "    fig, axs = plt.subplots(2)\n",
    "    # accuracy subplot\n",
    "    axs[0].plot(hist.history[\"accuracy\"], label=\"train accuracy\")\n",
    "    axs[0].plot(hist.history[\"val_accuracy\"], label=\"test accuracy\")    \n",
    "    axs[0].set_ylabel(\"Accuracy\")\n",
    "    axs[0].legend(loc=\"lower right\")\n",
    "    axs[0].set_title(\"Accuracy eval\")\n",
    "    \n",
    "    # Error subplot\n",
    "    axs[1].plot(hist.history[\"loss\"], label=\"train error\")\n",
    "    axs[1].plot(hist.history[\"val_loss\"], label=\"test error\")    \n",
    "    axs[1].set_ylabel(\"Error\")\n",
    "    axs[1].set_xlabel(\"Epoch\")\n",
    "    axs[1].legend(loc=\"upper right\")\n",
    "    axs[1].set_title(\"Error eval\")\n",
    "    \n",
    "    plt.show()"
   ]
  },
  {
   "cell_type": "code",
   "execution_count": 10,
   "metadata": {},
   "outputs": [
    {
     "data": {
      "text/plain": [
       "<Figure size 2000x1500 with 0 Axes>"
      ]
     },
     "metadata": {},
     "output_type": "display_data"
    },
    {
     "data": {
      "image/png": "[encoded data removed]",
      "text/plain": [
       "<Figure size 640x480 with 2 Axes>"
      ]
     },
     "metadata": {},
     "output_type": "display_data"
    }
   ],
   "source": [
    "plot_history(hist)"
   ]
  },
  {
   "cell_type": "code",
   "execution_count": 11,
   "metadata": {},
   "outputs": [
    {
     "name": "stdout",
     "output_type": "stream",
     "text": [
      "63/63 [==============================] - 1s 20ms/step - loss: 0.0983 - accuracy: 0.9670\n",
      "Test accuracy: 0.9670000076293945\n"
     ]
    }
   ],
   "source": [
    "test_error, test_accuracy = model.evaluate(X_test, Y_test, verbose=1)\n",
    "print(f\"Test accuracy: {test_accuracy}\")"
   ]
  },
  {
   "cell_type": "code",
   "execution_count": null,
   "metadata": {},
   "outputs": [],
   "source": []
  }
 ],
 "metadata": {
  "kernelspec": {
   "display_name": "drunk",
   "language": "python",
   "name": "python3"
  },
  "language_info": {
   "codemirror_mode": {
    "name": "ipython",
    "version": 3
   },
   "file_extension": ".py",
   "mimetype": "text/x-python",
   "name": "python",
   "nbconvert_exporter": "python",
   "pygments_lexer": "ipython3",
   "version": "3.7.15"
  }
 },
 "nbformat": 4,
 "nbformat_minor": 2
}
