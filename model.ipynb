{
 "cells": [
  {
   "cell_type": "code",
   "execution_count": 1,
   "metadata": {},
   "outputs": [
    {
     "name": "stderr",
     "output_type": "stream",
     "text": [
      "2024-04-29 20:50:52.232744: I tensorflow/core/platform/cpu_feature_guard.cc:193] This TensorFlow binary is optimized with oneAPI Deep Neural Network Library (oneDNN) to use the following CPU instructions in performance-critical operations:  AVX2 AVX512F AVX512_VNNI FMA\n",
      "To enable them in other operations, rebuild TensorFlow with the appropriate compiler flags.\n",
      "2024-04-29 20:50:52.633558: I tensorflow/core/util/port.cc:104] oneDNN custom operations are on. You may see slightly different numerical results due to floating-point round-off errors from different computation orders. To turn them off, set the environment variable `TF_ENABLE_ONEDNN_OPTS=0`.\n",
      "2024-04-29 20:50:52.659400: W tensorflow/compiler/xla/stream_executor/platform/default/dso_loader.cc:64] Could not load dynamic library 'libcudart.so.11.0'; dlerror: libcudart.so.11.0: cannot open shared object file: No such file or directory; LD_LIBRARY_PATH: :/usr/local/cuda/lib64:/usr/local/cuda/extras/CUPTI/lib64\n",
      "2024-04-29 20:50:52.659459: I tensorflow/compiler/xla/stream_executor/cuda/cudart_stub.cc:29] Ignore above cudart dlerror if you do not have a GPU set up on your machine.\n",
      "2024-04-29 20:50:53.451991: W tensorflow/compiler/xla/stream_executor/platform/default/dso_loader.cc:64] Could not load dynamic library 'libnvinfer.so.7'; dlerror: libnvinfer.so.7: cannot open shared object file: No such file or directory; LD_LIBRARY_PATH: :/usr/local/cuda/lib64:/usr/local/cuda/extras/CUPTI/lib64\n",
      "2024-04-29 20:50:53.452188: W tensorflow/compiler/xla/stream_executor/platform/default/dso_loader.cc:64] Could not load dynamic library 'libnvinfer_plugin.so.7'; dlerror: libnvinfer_plugin.so.7: cannot open shared object file: No such file or directory; LD_LIBRARY_PATH: :/usr/local/cuda/lib64:/usr/local/cuda/extras/CUPTI/lib64\n",
      "2024-04-29 20:50:53.452195: W tensorflow/compiler/tf2tensorrt/utils/py_utils.cc:38] TF-TRT Warning: Cannot dlopen some TensorRT libraries. If you would like to use Nvidia GPU with TensorRT, please make sure the missing libraries mentioned above are installed properly.\n"
     ]
    }
   ],
   "source": [
    "import numpy as np\n",
    "import pandas as pd\n",
    "from tensorflow.keras.models import Sequential\n",
    "from tensorflow.keras.utils import to_categorical\n",
    "from tensorflow.keras.layers import Activation, Dense, Flatten, Conv2D, MaxPool2D, Dropout, BatchNormalization\n",
    "from tensorflow.keras.callbacks import EarlyStopping\n",
    "from tensorflow.keras.optimizers import SGD, Adam\n",
    "import matplotlib.pyplot as plt\n",
    "import seaborn as sns"
   ]
  },
  {
   "cell_type": "code",
   "execution_count": 2,
   "metadata": {},
   "outputs": [],
   "source": [
    "X_train = np.load('X_train.npy')\n",
    "Y_train = np.load('Y_train.npy')\n",
    "X_test = np.load('X_test.npy')\n",
    "Y_test = np.load('Y_test.npy')"
   ]
  },
  {
   "cell_type": "code",
   "execution_count": 3,
   "metadata": {},
   "outputs": [],
   "source": [
    "X_train = X_train[..., np.newaxis]\n",
    "X_test = X_test[..., np.newaxis]\n"
   ]
  },
  {
   "cell_type": "code",
   "execution_count": 4,
   "metadata": {},
   "outputs": [
    {
     "data": {
      "text/plain": [
       "(862, 13, 1)"
      ]
     },
     "execution_count": 4,
     "metadata": {},
     "output_type": "execute_result"
    }
   ],
   "source": [
    "input_shape = X_train.shape[1:]\n",
    "input_shape"
   ]
  },
  {
   "cell_type": "code",
   "execution_count": 5,
   "metadata": {},
   "outputs": [
    {
     "name": "stderr",
     "output_type": "stream",
     "text": [
      "2024-04-29 20:50:57.353298: I tensorflow/compiler/xla/stream_executor/cuda/cuda_gpu_executor.cc:967] could not open file to read NUMA node: /sys/bus/pci/devices/0000:01:00.0/numa_node\n",
      "Your kernel may have been built without NUMA support.\n",
      "2024-04-29 20:50:57.353714: W tensorflow/compiler/xla/stream_executor/platform/default/dso_loader.cc:64] Could not load dynamic library 'libcudart.so.11.0'; dlerror: libcudart.so.11.0: cannot open shared object file: No such file or directory; LD_LIBRARY_PATH: :/usr/local/cuda/lib64:/usr/local/cuda/extras/CUPTI/lib64\n",
      "2024-04-29 20:50:57.353831: W tensorflow/compiler/xla/stream_executor/platform/default/dso_loader.cc:64] Could not load dynamic library 'libcublas.so.11'; dlerror: libcublas.so.11: cannot open shared object file: No such file or directory; LD_LIBRARY_PATH: :/usr/local/cuda/lib64:/usr/local/cuda/extras/CUPTI/lib64\n",
      "2024-04-29 20:50:57.353878: W tensorflow/compiler/xla/stream_executor/platform/default/dso_loader.cc:64] Could not load dynamic library 'libcublasLt.so.11'; dlerror: libcublasLt.so.11: cannot open shared object file: No such file or directory; LD_LIBRARY_PATH: :/usr/local/cuda/lib64:/usr/local/cuda/extras/CUPTI/lib64\n",
      "2024-04-29 20:50:57.353918: W tensorflow/compiler/xla/stream_executor/platform/default/dso_loader.cc:64] Could not load dynamic library 'libcufft.so.10'; dlerror: libcufft.so.10: cannot open shared object file: No such file or directory; LD_LIBRARY_PATH: :/usr/local/cuda/lib64:/usr/local/cuda/extras/CUPTI/lib64\n",
      "2024-04-29 20:50:57.628155: W tensorflow/compiler/xla/stream_executor/platform/default/dso_loader.cc:64] Could not load dynamic library 'libcusparse.so.11'; dlerror: libcusparse.so.11: cannot open shared object file: No such file or directory; LD_LIBRARY_PATH: :/usr/local/cuda/lib64:/usr/local/cuda/extras/CUPTI/lib64\n",
      "2024-04-29 20:50:57.629275: W tensorflow/core/common_runtime/gpu/gpu_device.cc:1934] Cannot dlopen some GPU libraries. Please make sure the missing libraries mentioned above are installed properly if you would like to use GPU. Follow the guide at https://www.tensorflow.org/install/gpu for how to download and setup the required libraries for your platform.\n",
      "Skipping registering GPU devices...\n",
      "2024-04-29 20:50:57.631486: I tensorflow/core/platform/cpu_feature_guard.cc:193] This TensorFlow binary is optimized with oneAPI Deep Neural Network Library (oneDNN) to use the following CPU instructions in performance-critical operations:  AVX2 AVX512F AVX512_VNNI FMA\n",
      "To enable them in other operations, rebuild TensorFlow with the appropriate compiler flags.\n"
     ]
    },
    {
     "name": "stdout",
     "output_type": "stream",
     "text": [
      "Model: \"sequential\"\n",
      "_________________________________________________________________\n",
      " Layer (type)                Output Shape              Param #   \n",
      "=================================================================\n",
      " conv2d (Conv2D)             (None, 860, 11, 64)       640       \n",
      "                                                                 \n",
      " max_pooling2d (MaxPooling2D  (None, 430, 6, 64)       0         \n",
      " )                                                               \n",
      "                                                                 \n",
      " batch_normalization (BatchN  (None, 430, 6, 64)       256       \n",
      " ormalization)                                                   \n",
      "                                                                 \n",
      " conv2d_1 (Conv2D)           (None, 428, 4, 32)        18464     \n",
      "                                                                 \n",
      " max_pooling2d_1 (MaxPooling  (None, 214, 2, 32)       0         \n",
      " 2D)                                                             \n",
      "                                                                 \n",
      " batch_normalization_1 (Batc  (None, 214, 2, 32)       128       \n",
      " hNormalization)                                                 \n",
      "                                                                 \n",
      " conv2d_2 (Conv2D)           (None, 213, 1, 32)        4128      \n",
      "                                                                 \n",
      " max_pooling2d_2 (MaxPooling  (None, 107, 1, 32)       0         \n",
      " 2D)                                                             \n",
      "                                                                 \n",
      " batch_normalization_2 (Batc  (None, 107, 1, 32)       128       \n",
      " hNormalization)                                                 \n",
      "                                                                 \n",
      " conv2d_3 (Conv2D)           (None, 107, 1, 16)        528       \n",
      "                                                                 \n",
      " max_pooling2d_3 (MaxPooling  (None, 54, 1, 16)        0         \n",
      " 2D)                                                             \n",
      "                                                                 \n",
      " batch_normalization_3 (Batc  (None, 54, 1, 16)        64        \n",
      " hNormalization)                                                 \n",
      "                                                                 \n",
      " flatten (Flatten)           (None, 864)               0         \n",
      "                                                                 \n",
      " dense (Dense)               (None, 64)                55360     \n",
      "                                                                 \n",
      " dropout (Dropout)           (None, 64)                0         \n",
      "                                                                 \n",
      " dense_1 (Dense)             (None, 10)                650       \n",
      "                                                                 \n",
      "=================================================================\n",
      "Total params: 80,346\n",
      "Trainable params: 80,058\n",
      "Non-trainable params: 288\n",
      "_________________________________________________________________\n"
     ]
    }
   ],
   "source": [
    "model = Sequential()\n",
    "model.add(Conv2D(64, (3, 3), activation = \"relu\", input_shape = input_shape))\n",
    "model.add(MaxPool2D((3, 3), strides=(2, 2), padding=\"same\"))\n",
    "model.add(BatchNormalization())\n",
    "\n",
    "model.add(Conv2D(32, (3, 3), activation = \"relu\"))\n",
    "model.add(MaxPool2D((3, 3), strides=(2, 2), padding=\"same\"))\n",
    "model.add(BatchNormalization())\n",
    "\n",
    "model.add(Conv2D(32, (2, 2), activation = \"relu\"))\n",
    "model.add(MaxPool2D((2, 2), strides=(2, 2), padding=\"same\"))\n",
    "model.add(BatchNormalization())\n",
    "\n",
    "model.add(Conv2D(16, (1, 1), activation = \"relu\"))\n",
    "model.add(MaxPool2D((1, 1), strides=(2, 2), padding=\"same\"))\n",
    "model.add(BatchNormalization())\n",
    "\n",
    "model.add(Flatten())\n",
    "model.add(Dense(64, activation=\"relu\"))\n",
    "model.add(Dropout(0.3))\n",
    "model.add(Dense(10, activation=\"softmax\"))\n",
    "\n",
    "model.summary()"
   ]
  },
  {
   "cell_type": "code",
   "execution_count": 6,
   "metadata": {},
   "outputs": [],
   "source": [
    "model.compile(loss=\"sparse_categorical_crossentropy\", optimizer= Adam(learning_rate=1e-4), metrics=['accuracy'])"
   ]
  },
  {
   "cell_type": "code",
   "execution_count": 7,
   "metadata": {},
   "outputs": [],
   "source": [
    "es = EarlyStopping(patience=10, restore_best_weights=True, monitor=\"val_loss\")"
   ]
  },
  {
   "cell_type": "code",
   "execution_count": 8,
   "metadata": {},
   "outputs": [
    {
     "name": "stdout",
     "output_type": "stream",
     "text": [
      "Epoch 1/100\n",
      "313/313 [==============================] - 25s 74ms/step - loss: 2.0851 - accuracy: 0.3221 - val_loss: 1.5067 - val_accuracy: 0.4760\n",
      "Epoch 2/100\n",
      "313/313 [==============================] - 22s 69ms/step - loss: 1.5527 - accuracy: 0.4625 - val_loss: 1.2226 - val_accuracy: 0.5680\n",
      "Epoch 3/100\n",
      "313/313 [==============================] - 22s 69ms/step - loss: 1.3040 - accuracy: 0.5439 - val_loss: 1.1131 - val_accuracy: 0.6080\n",
      "Epoch 4/100\n",
      "313/313 [==============================] - 21s 68ms/step - loss: 1.1364 - accuracy: 0.6030 - val_loss: 0.9337 - val_accuracy: 0.6760\n",
      "Epoch 5/100\n",
      "313/313 [==============================] - 21s 68ms/step - loss: 1.0116 - accuracy: 0.6430 - val_loss: 0.7976 - val_accuracy: 0.7240\n",
      "Epoch 6/100\n",
      "313/313 [==============================] - 21s 68ms/step - loss: 0.9194 - accuracy: 0.6820 - val_loss: 0.7329 - val_accuracy: 0.7425\n",
      "Epoch 7/100\n",
      "313/313 [==============================] - 21s 68ms/step - loss: 0.8320 - accuracy: 0.7054 - val_loss: 0.6700 - val_accuracy: 0.7655\n",
      "Epoch 8/100\n",
      "313/313 [==============================] - 21s 69ms/step - loss: 0.7528 - accuracy: 0.7410 - val_loss: 0.5871 - val_accuracy: 0.7925\n",
      "Epoch 9/100\n",
      "313/313 [==============================] - 21s 67ms/step - loss: 0.6831 - accuracy: 0.7607 - val_loss: 0.5682 - val_accuracy: 0.8060\n",
      "Epoch 10/100\n",
      "313/313 [==============================] - 21s 67ms/step - loss: 0.6382 - accuracy: 0.7786 - val_loss: 0.5239 - val_accuracy: 0.8175\n",
      "Epoch 11/100\n",
      "313/313 [==============================] - 21s 68ms/step - loss: 0.5740 - accuracy: 0.7988 - val_loss: 0.6427 - val_accuracy: 0.7650\n",
      "Epoch 12/100\n",
      "313/313 [==============================] - 21s 68ms/step - loss: 0.5408 - accuracy: 0.8093 - val_loss: 0.4640 - val_accuracy: 0.8355\n",
      "Epoch 13/100\n",
      "313/313 [==============================] - 21s 68ms/step - loss: 0.5052 - accuracy: 0.8229 - val_loss: 0.4143 - val_accuracy: 0.8610\n",
      "Epoch 14/100\n",
      "313/313 [==============================] - 22s 70ms/step - loss: 0.4714 - accuracy: 0.8348 - val_loss: 0.3683 - val_accuracy: 0.8785\n",
      "Epoch 15/100\n",
      "313/313 [==============================] - 21s 69ms/step - loss: 0.4431 - accuracy: 0.8421 - val_loss: 0.4113 - val_accuracy: 0.8485\n",
      "Epoch 16/100\n",
      "313/313 [==============================] - 21s 68ms/step - loss: 0.4048 - accuracy: 0.8613 - val_loss: 0.3392 - val_accuracy: 0.8880\n",
      "Epoch 17/100\n",
      "313/313 [==============================] - 21s 68ms/step - loss: 0.3882 - accuracy: 0.8668 - val_loss: 0.3563 - val_accuracy: 0.8825\n",
      "Epoch 18/100\n",
      "313/313 [==============================] - 21s 68ms/step - loss: 0.3592 - accuracy: 0.8749 - val_loss: 0.3703 - val_accuracy: 0.8585\n",
      "Epoch 19/100\n",
      "313/313 [==============================] - 22s 69ms/step - loss: 0.3367 - accuracy: 0.8797 - val_loss: 0.2743 - val_accuracy: 0.9125\n",
      "Epoch 20/100\n",
      "313/313 [==============================] - 21s 68ms/step - loss: 0.3215 - accuracy: 0.8891 - val_loss: 0.2957 - val_accuracy: 0.9045\n",
      "Epoch 21/100\n",
      "313/313 [==============================] - 21s 68ms/step - loss: 0.2932 - accuracy: 0.9037 - val_loss: 0.2309 - val_accuracy: 0.9230\n",
      "Epoch 22/100\n",
      "313/313 [==============================] - 21s 68ms/step - loss: 0.2785 - accuracy: 0.9029 - val_loss: 0.3034 - val_accuracy: 0.8965\n",
      "Epoch 23/100\n",
      "313/313 [==============================] - 21s 68ms/step - loss: 0.2690 - accuracy: 0.9052 - val_loss: 0.2531 - val_accuracy: 0.9175\n",
      "Epoch 24/100\n",
      "313/313 [==============================] - 21s 68ms/step - loss: 0.2478 - accuracy: 0.9156 - val_loss: 0.2332 - val_accuracy: 0.9245\n",
      "Epoch 25/100\n",
      "313/313 [==============================] - 21s 68ms/step - loss: 0.2339 - accuracy: 0.9189 - val_loss: 0.2499 - val_accuracy: 0.9060\n",
      "Epoch 26/100\n",
      "313/313 [==============================] - 21s 68ms/step - loss: 0.2348 - accuracy: 0.9155 - val_loss: 0.2111 - val_accuracy: 0.9240\n",
      "Epoch 27/100\n",
      "313/313 [==============================] - 22s 69ms/step - loss: 0.2108 - accuracy: 0.9284 - val_loss: 0.2227 - val_accuracy: 0.9235\n",
      "Epoch 28/100\n",
      "313/313 [==============================] - 21s 68ms/step - loss: 0.2065 - accuracy: 0.9288 - val_loss: 0.2234 - val_accuracy: 0.9245\n",
      "Epoch 29/100\n",
      "313/313 [==============================] - 21s 68ms/step - loss: 0.1996 - accuracy: 0.9334 - val_loss: 0.1744 - val_accuracy: 0.9440\n",
      "Epoch 30/100\n",
      "313/313 [==============================] - 21s 68ms/step - loss: 0.1862 - accuracy: 0.9361 - val_loss: 0.1766 - val_accuracy: 0.9350\n",
      "Epoch 31/100\n",
      "313/313 [==============================] - 21s 68ms/step - loss: 0.1694 - accuracy: 0.9406 - val_loss: 0.2092 - val_accuracy: 0.9285\n",
      "Epoch 32/100\n",
      "313/313 [==============================] - 21s 68ms/step - loss: 0.1664 - accuracy: 0.9451 - val_loss: 0.2070 - val_accuracy: 0.9225\n",
      "Epoch 33/100\n",
      "313/313 [==============================] - 21s 68ms/step - loss: 0.1659 - accuracy: 0.9442 - val_loss: 0.1584 - val_accuracy: 0.9515\n",
      "Epoch 34/100\n",
      "313/313 [==============================] - 21s 67ms/step - loss: 0.1460 - accuracy: 0.9511 - val_loss: 0.2218 - val_accuracy: 0.9270\n",
      "Epoch 35/100\n",
      "313/313 [==============================] - 21s 68ms/step - loss: 0.1454 - accuracy: 0.9529 - val_loss: 0.1496 - val_accuracy: 0.9505\n",
      "Epoch 36/100\n",
      "313/313 [==============================] - 21s 68ms/step - loss: 0.1462 - accuracy: 0.9496 - val_loss: 0.2012 - val_accuracy: 0.9315\n",
      "Epoch 37/100\n",
      "313/313 [==============================] - 21s 68ms/step - loss: 0.1226 - accuracy: 0.9591 - val_loss: 0.1251 - val_accuracy: 0.9610\n",
      "Epoch 38/100\n",
      "313/313 [==============================] - 21s 68ms/step - loss: 0.1309 - accuracy: 0.9567 - val_loss: 0.1806 - val_accuracy: 0.9320\n",
      "Epoch 39/100\n",
      "313/313 [==============================] - 21s 68ms/step - loss: 0.1251 - accuracy: 0.9567 - val_loss: 0.1554 - val_accuracy: 0.9530\n",
      "Epoch 40/100\n",
      "313/313 [==============================] - 22s 69ms/step - loss: 0.1243 - accuracy: 0.9599 - val_loss: 0.1527 - val_accuracy: 0.9460\n",
      "Epoch 41/100\n",
      "313/313 [==============================] - 21s 68ms/step - loss: 0.1224 - accuracy: 0.9584 - val_loss: 0.1386 - val_accuracy: 0.9550\n",
      "Epoch 42/100\n",
      "313/313 [==============================] - 21s 68ms/step - loss: 0.1067 - accuracy: 0.9646 - val_loss: 0.3191 - val_accuracy: 0.8920\n",
      "Epoch 43/100\n",
      "313/313 [==============================] - 21s 68ms/step - loss: 0.1150 - accuracy: 0.9597 - val_loss: 0.1434 - val_accuracy: 0.9560\n",
      "Epoch 44/100\n",
      "313/313 [==============================] - 21s 68ms/step - loss: 0.1015 - accuracy: 0.9664 - val_loss: 0.1803 - val_accuracy: 0.9430\n",
      "Epoch 45/100\n",
      "313/313 [==============================] - 21s 68ms/step - loss: 0.1033 - accuracy: 0.9667 - val_loss: 0.1467 - val_accuracy: 0.9460\n",
      "Epoch 46/100\n",
      "313/313 [==============================] - 21s 68ms/step - loss: 0.1042 - accuracy: 0.9645 - val_loss: 0.1092 - val_accuracy: 0.9655\n",
      "Epoch 47/100\n",
      "313/313 [==============================] - 21s 68ms/step - loss: 0.0972 - accuracy: 0.9670 - val_loss: 0.1132 - val_accuracy: 0.9630\n",
      "Epoch 48/100\n",
      "313/313 [==============================] - 21s 68ms/step - loss: 0.0972 - accuracy: 0.9671 - val_loss: 0.1768 - val_accuracy: 0.9330\n",
      "Epoch 49/100\n",
      "313/313 [==============================] - 21s 68ms/step - loss: 0.0915 - accuracy: 0.9691 - val_loss: 0.1644 - val_accuracy: 0.9490\n",
      "Epoch 50/100\n",
      "313/313 [==============================] - 21s 68ms/step - loss: 0.0895 - accuracy: 0.9699 - val_loss: 0.1563 - val_accuracy: 0.9430\n",
      "Epoch 51/100\n",
      "313/313 [==============================] - 21s 68ms/step - loss: 0.0918 - accuracy: 0.9703 - val_loss: 0.1711 - val_accuracy: 0.9480\n",
      "Epoch 52/100\n",
      "313/313 [==============================] - 21s 68ms/step - loss: 0.0808 - accuracy: 0.9731 - val_loss: 0.1129 - val_accuracy: 0.9625\n",
      "Epoch 53/100\n",
      "313/313 [==============================] - 21s 68ms/step - loss: 0.0733 - accuracy: 0.9769 - val_loss: 0.1333 - val_accuracy: 0.9555\n",
      "Epoch 54/100\n",
      "313/313 [==============================] - 22s 69ms/step - loss: 0.0756 - accuracy: 0.9753 - val_loss: 0.1737 - val_accuracy: 0.9440\n",
      "Epoch 55/100\n",
      "313/313 [==============================] - 21s 69ms/step - loss: 0.0769 - accuracy: 0.9758 - val_loss: 0.1121 - val_accuracy: 0.9625\n",
      "Epoch 56/100\n",
      "313/313 [==============================] - 21s 69ms/step - loss: 0.0678 - accuracy: 0.9781 - val_loss: 0.1237 - val_accuracy: 0.9560\n"
     ]
    }
   ],
   "source": [
    "hist = model.fit(X_train, Y_train,\n",
    "                 validation_data = (X_test,Y_test),\n",
    "                 epochs = 100,\n",
    "                 batch_size = 32,\n",
    "                 callbacks = [es]\n",
    "                 )"
   ]
  },
  {
   "cell_type": "code",
   "execution_count": 9,
   "metadata": {},
   "outputs": [],
   "source": [
    "def plot_history(hist):\n",
    "    plt.figure(figsize=(20,15))\n",
    "    fig, axs = plt.subplots(2)\n",
    "    # accuracy subplot\n",
    "    axs[0].plot(hist.history[\"accuracy\"], label=\"train accuracy\")\n",
    "    axs[0].plot(hist.history[\"val_accuracy\"], label=\"test accuracy\")    \n",
    "    axs[0].set_ylabel(\"Accuracy\")\n",
    "    axs[0].legend(loc=\"lower right\")\n",
    "    axs[0].set_title(\"Accuracy eval\")\n",
    "    \n",
    "    # Error subplot\n",
    "    axs[1].plot(hist.history[\"loss\"], label=\"train error\")\n",
    "    axs[1].plot(hist.history[\"val_loss\"], label=\"test error\")    \n",
    "    axs[1].set_ylabel(\"Error\")\n",
    "    axs[1].set_xlabel(\"Epoch\")\n",
    "    axs[1].legend(loc=\"upper right\")\n",
    "    axs[1].set_title(\"Error eval\")\n",
    "    \n",
    "    plt.show()"
   ]
  },
  {
   "cell_type": "code",
   "execution_count": 10,
   "metadata": {},
   "outputs": [
    {
     "data": {
      "text/plain": [
       "<Figure size 2000x1500 with 0 Axes>"
      ]
     },
     "metadata": {},
     "output_type": "display_data"
    },
    {
     "data": {
      "image/png": "[encoded data removed]",
      "text/plain": [
       "<Figure size 640x480 with 2 Axes>"
      ]
     },
     "metadata": {},
     "output_type": "display_data"
    }
   ],
   "source": [
    "plot_history(hist)"
   ]
  },
  {
   "cell_type": "code",
   "execution_count": 11,
   "metadata": {},
   "outputs": [
    {
     "name": "stdout",
     "output_type": "stream",
     "text": [
      "63/63 [==============================] - 1s 21ms/step - loss: 0.1092 - accuracy: 0.9655\n",
      "Test accuracy: 0.965499997138977\n"
     ]
    }
   ],
   "source": [
    "test_error, test_accuracy = model.evaluate(X_test, Y_test, verbose=1)\n",
    "print(f\"Test accuracy: {test_accuracy}\")"
   ]
  },
  {
   "cell_type": "code",
   "execution_count": null,
   "metadata": {},
   "outputs": [],
   "source": [
    "model.save('my_model.keras')"
   ]
  },
  {
   "cell_type": "markdown",
   "metadata": {},
   "source": [
    "Evaluate on test set"
   ]
  },
  {
   "cell_type": "code",
   "execution_count": 12,
   "metadata": {},
   "outputs": [],
   "source": [
    "X_val = np.load('X_val.npy')\n",
    "Y_val = np.load('Y_val.npy')"
   ]
  },
  {
   "cell_type": "code",
   "execution_count": 13,
   "metadata": {},
   "outputs": [],
   "source": [
    "X_val = X_val[..., np.newaxis]"
   ]
  },
  {
   "cell_type": "code",
   "execution_count": 14,
   "metadata": {},
   "outputs": [
    {
     "name": "stdout",
     "output_type": "stream",
     "text": [
      "125/125 [==============================] - 3s 22ms/step - loss: 4.7514 - accuracy: 0.3783\n",
      "Test accuracy: 0.37825000286102295\n"
     ]
    }
   ],
   "source": [
    "test_error, test_accuracy = model.evaluate(X_val, Y_val, verbose=1)\n",
    "print(f\"Test accuracy: {test_accuracy}\")"
   ]
  },
  {
   "cell_type": "code",
   "execution_count": null,
   "metadata": {},
   "outputs": [],
   "source": []
  },
  {
   "cell_type": "code",
   "execution_count": null,
   "metadata": {},
   "outputs": [],
   "source": []
  }
 ],
 "metadata": {
  "kernelspec": {
   "display_name": "drunk",
   "language": "python",
   "name": "python3"
  },
  "language_info": {
   "codemirror_mode": {
    "name": "ipython",
    "version": 3
   },
   "file_extension": ".py",
   "mimetype": "text/x-python",
   "name": "python",
   "nbconvert_exporter": "python",
   "pygments_lexer": "ipython3",
   "version": "3.7.15"
  }
 },
 "nbformat": 4,
 "nbformat_minor": 2
}
