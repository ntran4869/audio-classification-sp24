{
 "cells": [
  {
   "cell_type": "code",
   "execution_count": 1,
   "metadata": {},
   "outputs": [
    {
     "name": "stderr",
     "output_type": "stream",
     "text": [
      "/home/ntran4869/miniconda3/envs/drunk/lib/python3.7/site-packages/tqdm/auto.py:21: TqdmWarning: IProgress not found. Please update jupyter and ipywidgets. See https://ipywidgets.readthedocs.io/en/stable/user_install.html\n",
      "  from .autonotebook import tqdm as notebook_tqdm\n"
     ]
    }
   ],
   "source": [
    "import os\n",
    "import pandas as pd\n",
    "from torch.utils import data\n",
    "import random\n",
    "import numpy as np\n",
    "from torch.utils.data import  DataLoader\n",
    "from tqdm import tqdm\n",
    "import librosa\n",
    "from collections import defaultdict"
   ]
  },
  {
   "cell_type": "code",
   "execution_count": 2,
   "metadata": {},
   "outputs": [],
   "source": [
    "SAMPLE_RATE = 22050"
   ]
  },
  {
   "cell_type": "code",
   "execution_count": 3,
   "metadata": {},
   "outputs": [],
   "source": [
    "class DataSetAudio(data.Dataset):\n",
    "    def __init__(self, dset_path, max_lengh=10000, seq_lengh=20, is_train=True):\n",
    "        super(DataSetAudio).__init__()\n",
    "        self.dset_path, self.labels = self.extract(dset_path)\n",
    "        self.max_lengh = max_lengh\n",
    "        self.seq_lengh = seq_lengh\n",
    "        self.is_train = is_train\n",
    "        #length of sequence\n",
    "        self.steps = int(SAMPLE_RATE*seq_lengh)\n",
    "    \n",
    "    def __len__(self):\n",
    "        return self.max_lengh\n",
    "\n",
    "    def __iter__(self):\n",
    "        # Same validation\n",
    "        if not self.is_train:\n",
    "            random.seed(72)\n",
    "        return self\n",
    "    \n",
    "    def __getitem__(self, idx):\n",
    "        # % by len(s.dset) because it gives bug if not\n",
    "        audio_path = self.dset_path[idx % len(self.dset_path)]\n",
    "        label = audio_path.split('/')[2]\n",
    "        signal, sr = librosa.load(audio_path, sr = SAMPLE_RATE)\n",
    "        #choosing random part of the songs\n",
    "        gen = random.randrange(0,len(signal) - self.steps)\n",
    "        mfcc = librosa.feature.mfcc(y = signal[gen: gen + self.steps],\n",
    "                                                    sr = sr,\n",
    "                                                    n_fft = 2048,\n",
    "                                                    n_mfcc = 13,\n",
    "                                                    hop_length = 512)\n",
    "        return mfcc.T, self.labels[label]\n",
    "\n",
    "    def extract(self,dir):\n",
    "        file_list = []\n",
    "        labels = defaultdict()\n",
    "        for i, (dirpath, dirnames, filenames) in enumerate(os.walk(dir)):\n",
    "                if dirpath is not dir:\n",
    "                        labels[dirpath.split('/')[-1]] = i-1\n",
    "                        for file in filenames:\n",
    "                                file_list.append(os.path.join(dirpath, file))\n",
    "        return file_list, labels"
   ]
  },
  {
   "cell_type": "code",
   "execution_count": 11,
   "metadata": {},
   "outputs": [],
   "source": [
    "data_path = 'Data/genres_original'\n",
    "dataset = DataSetAudio(dset_path=data_path)\n",
    "dataloader = DataLoader(dataset, batch_size=32, shuffle=True)"
   ]
  },
  {
   "cell_type": "code",
   "execution_count": 7,
   "metadata": {},
   "outputs": [],
   "source": [
    "def gen_training_samples(dloader):\n",
    "    x_train = []\n",
    "    y_train = []\n",
    "    for batch in tqdm((dloader)):\n",
    "        inputs, labels = batch\n",
    "        x_train.append(inputs)\n",
    "        y_train.append(labels)\n",
    "\n",
    "    x_train = np.concatenate(x_train, axis=0)\n",
    "    y_train = np.concatenate(y_train, axis=0)\n",
    "    return x_train, y_train"
   ]
  },
  {
   "cell_type": "code",
   "execution_count": 12,
   "metadata": {},
   "outputs": [
    {
     "name": "stderr",
     "output_type": "stream",
     "text": [
      "100%|██████████| 313/313 [03:32<00:00,  1.48it/s]\n"
     ]
    }
   ],
   "source": [
    "X_train, Y_train = gen_training_samples(dataloader)"
   ]
  },
  {
   "cell_type": "code",
   "execution_count": 14,
   "metadata": {},
   "outputs": [
    {
     "data": {
      "text/plain": [
       "defaultdict(None,\n",
       "            {'hiphop': 0,\n",
       "             'classical': 1,\n",
       "             'blues': 2,\n",
       "             'metal': 3,\n",
       "             'jazz': 4,\n",
       "             'country': 5,\n",
       "             'pop': 6,\n",
       "             'rock': 7,\n",
       "             'disco': 8,\n",
       "             'reggae': 9})"
      ]
     },
     "execution_count": 14,
     "metadata": {},
     "output_type": "execute_result"
    }
   ],
   "source": [
    "dataset.labels"
   ]
  },
  {
   "cell_type": "code",
   "execution_count": 13,
   "metadata": {},
   "outputs": [
    {
     "data": {
      "text/plain": [
       "Counter({0: 1010,\n",
       "         1: 1000,\n",
       "         2: 1000,\n",
       "         3: 1000,\n",
       "         5: 1000,\n",
       "         7: 1000,\n",
       "         6: 1000,\n",
       "         9: 1000,\n",
       "         8: 1000,\n",
       "         4: 990})"
      ]
     },
     "execution_count": 13,
     "metadata": {},
     "output_type": "execute_result"
    }
   ],
   "source": [
    "'''\n",
    "Validate equal parts\n",
    "'''\n",
    "from collections import Counter\n",
    "\n",
    "Counter(Y_train)"
   ]
  },
  {
   "cell_type": "code",
   "execution_count": 8,
   "metadata": {},
   "outputs": [],
   "source": [
    "np.save('X_train.npy',X_train)\n",
    "np.save('Y_train.npy',Y_train)"
   ]
  },
  {
   "cell_type": "code",
   "execution_count": 9,
   "metadata": {},
   "outputs": [
    {
     "name": "stderr",
     "output_type": "stream",
     "text": [
      "100%|██████████| 63/63 [00:37<00:00,  1.70it/s]\n"
     ]
    }
   ],
   "source": [
    "dsetest = DataSetAudio(dset_path=data_path,max_lengh=2000, is_train=False)\n",
    "dloadertest = DataLoader(dsetest, batch_size=32, shuffle=True)\n",
    "X_test, Y_test = gen_training_samples(dloadertest)"
   ]
  },
  {
   "cell_type": "code",
   "execution_count": 10,
   "metadata": {},
   "outputs": [
    {
     "data": {
      "text/plain": [
       "Counter({5: 200,\n",
       "         8: 200,\n",
       "         1: 200,\n",
       "         6: 200,\n",
       "         7: 200,\n",
       "         0: 202,\n",
       "         9: 200,\n",
       "         2: 200,\n",
       "         3: 200,\n",
       "         4: 198})"
      ]
     },
     "execution_count": 10,
     "metadata": {},
     "output_type": "execute_result"
    }
   ],
   "source": [
    "Counter(Y_test)\n"
   ]
  },
  {
   "cell_type": "code",
   "execution_count": 11,
   "metadata": {},
   "outputs": [],
   "source": [
    "np.save('X_test.npy',X_test)\n",
    "np.save('Y_test.npy',Y_test)"
   ]
  },
  {
   "cell_type": "code",
   "execution_count": 4,
   "metadata": {},
   "outputs": [],
   "source": [
    "data_path = 'Data/fma_medium'\n",
    "dataset2 = DataSetAudio(dset_path=data_path, max_lengh= 4000)\n",
    "dtest = DataLoader(dataset2, batch_size=32, shuffle=True)"
   ]
  },
  {
   "cell_type": "code",
   "execution_count": 10,
   "metadata": {},
   "outputs": [
    {
     "data": {
      "text/plain": [
       "defaultdict(None,\n",
       "            {'Country': 0,\n",
       "             'Classical': 1,\n",
       "             'Blues': 2,\n",
       "             'Pop': 3,\n",
       "             'Hip-Hop': 4,\n",
       "             'Rock': 5,\n",
       "             'Jazz': 6})"
      ]
     },
     "execution_count": 10,
     "metadata": {},
     "output_type": "execute_result"
    }
   ],
   "source": [
    "dataset2.labels"
   ]
  },
  {
   "cell_type": "code",
   "execution_count": 8,
   "metadata": {},
   "outputs": [
    {
     "name": "stderr",
     "output_type": "stream",
     "text": [
      " 18%|█▊        | 23/125 [01:06<05:32,  3.26s/it][src/libmpg123/layer3.c:INT123_do_layer3():1801] error: dequantization failed!\n",
      " 94%|█████████▍| 118/125 [05:40<00:17,  2.55s/it][src/libmpg123/layer3.c:INT123_do_layer3():1801] error: dequantization failed!\n",
      "100%|██████████| 125/125 [05:59<00:00,  2.88s/it]\n"
     ]
    }
   ],
   "source": [
    "X_val, Y_val = gen_training_samples(dtest)"
   ]
  },
  {
   "cell_type": "code",
   "execution_count": 9,
   "metadata": {},
   "outputs": [
    {
     "data": {
      "text/plain": [
       "Counter({0: 180, 4: 760, 5: 797, 1: 619, 6: 384, 3: 1186, 2: 74})"
      ]
     },
     "execution_count": 9,
     "metadata": {},
     "output_type": "execute_result"
    }
   ],
   "source": [
    "from collections import Counter\n",
    "\n",
    "Counter(Y_val)"
   ]
  },
  {
   "cell_type": "code",
   "execution_count": null,
   "metadata": {},
   "outputs": [],
   "source": []
  },
  {
   "cell_type": "code",
   "execution_count": 15,
   "metadata": {},
   "outputs": [],
   "source": [
    "#to make label in both dataset unites\n",
    "Y = []\n",
    "for i in Y_val:\n",
    "    if i == 0:\n",
    "        Y.append(5)\n",
    "    elif i == 3:\n",
    "        Y.append(6)\n",
    "    elif i == 4:\n",
    "        Y.append(0)\n",
    "    elif i == 5:\n",
    "        Y.append(7)\n",
    "    elif i == 6:\n",
    "        Y.append(4)\n",
    "    else:\n",
    "        Y.append(i)\n",
    "Y_val_ = np.array(Y)"
   ]
  },
  {
   "cell_type": "code",
   "execution_count": 16,
   "metadata": {},
   "outputs": [
    {
     "data": {
      "text/plain": [
       "array([6, 1, 1, ..., 6, 0, 0])"
      ]
     },
     "execution_count": 16,
     "metadata": {},
     "output_type": "execute_result"
    }
   ],
   "source": [
    "Y_val_"
   ]
  },
  {
   "cell_type": "code",
   "execution_count": 17,
   "metadata": {},
   "outputs": [],
   "source": [
    "np.save('X_val.npy',X_val)\n",
    "np.save('Y_val.npy',Y_val_)"
   ]
  }
 ],
 "metadata": {
  "kernelspec": {
   "display_name": "drunk",
   "language": "python",
   "name": "python3"
  },
  "language_info": {
   "codemirror_mode": {
    "name": "ipython",
    "version": 3
   },
   "file_extension": ".py",
   "mimetype": "text/x-python",
   "name": "python",
   "nbconvert_exporter": "python",
   "pygments_lexer": "ipython3",
   "version": "3.7.15"
  }
 },
 "nbformat": 4,
 "nbformat_minor": 2
}
